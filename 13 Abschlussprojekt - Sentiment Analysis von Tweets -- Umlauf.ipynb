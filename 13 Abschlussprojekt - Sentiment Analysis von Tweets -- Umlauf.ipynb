{
 "cells": [
  {
   "attachments": {},
   "cell_type": "markdown",
   "metadata": {},
   "source": [
    "<span style=\"color:red\">Abgegeben von (Name, Vorname):</span> \n",
    "Umlauf, Béla"
   ]
  },
  {
   "attachments": {},
   "cell_type": "markdown",
   "metadata": {},
   "source": [
    "# Projektbeschreibung: Sentiment Analysis von Tweets\n",
    "\n",
    "Das Projekt besteht darin, einen Klassifikator zu entwickeln, der entscheiden kann, ob eine Tweet wie `GREAT GAME GIRLS!! On to districts Monday at Fox!! Thanks to the fans for coming out :)` positiv, negativ oder neutral/objektiv ist. \n",
    "\n",
    "## Daten\n",
    "\n",
    "Für die Entwicklung des Klassifikators nutzen wir die Daten des SemEval 2013 Task 2b, ein Korpus mit 14882 annotierten Tweets: \n",
    "\n",
    "- Informationen zum Korpus: https://aclanthology.org/S13-2052/\n",
    "- Corpus als zip-Datei: [semeval2013.zip](https://moodle.zdv.uni-tuebingen.de/pluginfile.php/269639/mod_assign/introattachment/0/semeval2013.zip?forcedownload=1)\n",
    "\n",
    "Bitte entpacken Sie das Corpus im Ordner ihres Notebooks.\n",
    "\n",
    "Das Format des Corpus ist denkbar einfach: Jede Zeile enthält einen Tweet, wobei das Tag am Zeilenanfang steht und vom Text durch einen Tabulator getrennt ist:\n",
    "\n",
    "    264224316193902592\tpositive\tGREAT GAME GIRLS!! On to districts Monday at Fox!! Thanks to the fans for coming out :)\n",
    "    \n",
    "\n",
    "## Teilaufgaben\n",
    "\n",
    "Bearbeiten Sie die Folgenden Teilaufgaben und verwenden Sie dabei grundsätzlich **nur die in der Vorlesung verwendeten Python-Module**, insbesondere NLTK. Abweichungen müssen jeweils plausibel begründet werden.\n",
    "\n",
    "- <span style=\"color:red\">A1: </span> Lesen Sie die Daten ein, die bereits in Traings-, Entwicklungs- und Testdaten unterteilt sind, und reinigen Sie die Daten, falls nötig (z.B. hinsichtlich Unicode).\n",
    "- <span style=\"color:red\">A2: </span> Geben Sie eine Statistik über den Umfang der Datensplits und die Verteilung der Klassenlabel an. (Sind die Klassenlabel gleichmäßig über die Datensplits verteilt?)\n",
    "- <span style=\"color:red\">A3: </span> Implementieren Sie eine einfache, aber nicht zu niedrige Baseline und führen Sie eine Evaluierung anhand der Baseline durch!\n",
    "- <span style=\"color:red\">A4: </span> Implementieren Sie (mindestens) ein weiteres Verfahren, das sich von dem der Baseline wesentlich unterscheidet! \n",
    "- <span style=\"color:red\">A5: </span> Untersuchen Sie die Nützlichkeit der linguistischen Features Stamm/Lemma und POS-Tag auf dem Dev-Daten. Können diese gewinnbringend eingesetzt werden?\n",
    "- <span style=\"color:red\">A6: </span> Führen Sie eine Evaluierung anhand der Testdaten für das zweite Verfahren durch!\n",
    "- <span style=\"color:red\">A7: </span> Fassen Sie die Ergebnisse zusammen und bewerten Sie diese kurz!\n",
    "\n",
    "Bitte achten Sie auf eine durchgehende Dokumentation der Bearbeitungsschritte. Die Dokumentation sollte in der Art und Detailliertheit den Notebooks des Kurses entsprechen. D.h. die Erläuterung sollten vornehmlich in Markdown-Blöcken gemacht werden.\n",
    "\n",
    "Viel Erfolg!"
   ]
  },
  {
   "cell_type": "markdown",
   "metadata": {},
   "source": [
    "# Lösung"
   ]
  },
  {
   "cell_type": "code",
   "execution_count": 1,
   "metadata": {},
   "outputs": [],
   "source": [
    "import pandas as pd\n",
    "import nltk\n",
    "import numpy as np"
   ]
  },
  {
   "attachments": {},
   "cell_type": "markdown",
   "metadata": {},
   "source": [
    "### <span style=\"color:red\">  1.) Einlesen und Reinigen der Daten \n",
    "Zum Einlesen der .tsv Daten wird **pandas** verwendet, das wohl bekannteste python tool für Datenanalyse.  \n",
    "Per `read_csv()` wird die Datei in ein Dataframe eingelesen und durch `sep='\\t'` Tab getrennt. Wobei jeder Datensplit in einem eigenen Dataframe gespeichert ist. Des Weiteren wird ein Header hinzugefügt."
   ]
  },
  {
   "cell_type": "code",
   "execution_count": 2,
   "metadata": {},
   "outputs": [],
   "source": [
    "#Erhöt die Zeilenlänge für das Dataframe\n",
    "pd.set_option('display.max_colwidth', None)\n",
    "\n",
    "header = [\"ID\", \"Label\", \"Tweet\"]\n",
    "\n",
    "train_data = pd.read_csv('semeval2013/twitter-2013train-A.txt',sep='\\t',names=header, encoding='utf8')\n",
    "dev_data = pd.read_csv('semeval2013/twitter-2013dev-A.txt',sep='\\t',names=header, encoding='utf8')\n",
    "test_data = pd.read_csv('semeval2013/twitter-2013test-A.txt',sep='\\t',names=header, encoding='utf8')"
   ]
  },
  {
   "attachments": {},
   "cell_type": "markdown",
   "metadata": {},
   "source": [
    "#### Reinigen der Daten\n",
    "Zunächst werden alle Unicodes richtig interpretiert und Hashtags, @ und Links aus den Tweets entfernt. \n",
    "Die verwendeten Regular expressions sind:  \n",
    "- `r'\\\\u([0-9a-fA-F]{4})'`:     Alle Chars, die mit `/u` beginnen sowie 4 weitere Hexademizalzahlen, welche den Unicode ergeben  \n",
    "- `r'http\\S+|https\\S+|www.\\S+'`: Alle Links, die mit `http`, `https` oder `www` beginnen.  \n",
    "-  `r'\\@\\w+|\\#'`: Alle Hashtags und @, sowie die darauf Folgenden Wörter.  \n",
    "   \n",
    "Weiteres Cleaning wird eventuell im späteren Verlauf vorgenommen.  \n"
   ]
  },
  {
   "cell_type": "code",
   "execution_count": 3,
   "metadata": {},
   "outputs": [],
   "source": [
    "import re\n",
    "\n",
    "#Regex für Unicode\n",
    "unicode_regex = r'\\\\u([0-9a-fA-F]{4})'\n",
    "\n",
    "#Regex für Links\n",
    "links_regex = r'http\\S+|https\\S+|www.\\S+'\n",
    "\n",
    "#Regex für @ und #\n",
    "at_and_hasht = r'\\@\\w+|\\#'"
   ]
  },
  {
   "attachments": {},
   "cell_type": "markdown",
   "metadata": {},
   "source": [
    "Die Funktionen `translate_unicode()` und `clean_tweet()` führen die Regex Befehle jeweils auf eine Zeile im Dataframe aus."
   ]
  },
  {
   "cell_type": "code",
   "execution_count": 4,
   "metadata": {},
   "outputs": [],
   "source": [
    "#Funktion, welche den Unicode aus dem Dataframe durch den entsprechenden Char ersetzt.\n",
    "def translate_unicode(col):\n",
    "    return re.sub(unicode_regex,  lambda m: chr(int(m.group(1), 16)), \n",
    "                  col.encode().decode('unicode-escape'))\n",
    "\n",
    "#Entfernt @ und # aus den Tweets\n",
    "def clean_tweet(col):\n",
    "    col = re.sub(links_regex,\"\",col)\n",
    "    col = re.sub(at_and_hasht,\"\",col)\n",
    "    return col"
   ]
  },
  {
   "attachments": {},
   "cell_type": "markdown",
   "metadata": {},
   "source": [
    "Der `Train Split` **vor** dem cleaning:"
   ]
  },
  {
   "cell_type": "code",
   "execution_count": 5,
   "metadata": {},
   "outputs": [
    {
     "data": {
      "text/html": [
       "<div>\n",
       "<style scoped>\n",
       "    .dataframe tbody tr th:only-of-type {\n",
       "        vertical-align: middle;\n",
       "    }\n",
       "\n",
       "    .dataframe tbody tr th {\n",
       "        vertical-align: top;\n",
       "    }\n",
       "\n",
       "    .dataframe thead th {\n",
       "        text-align: right;\n",
       "    }\n",
       "</style>\n",
       "<table border=\"1\" class=\"dataframe\">\n",
       "  <thead>\n",
       "    <tr style=\"text-align: right;\">\n",
       "      <th></th>\n",
       "      <th>ID</th>\n",
       "      <th>Label</th>\n",
       "      <th>Tweet</th>\n",
       "    </tr>\n",
       "  </thead>\n",
       "  <tbody>\n",
       "    <tr>\n",
       "      <th>0</th>\n",
       "      <td>264183816548130816</td>\n",
       "      <td>positive</td>\n",
       "      <td>Gas by my house hit $3.39!!!! I\\u2019m going to Chapel Hill on Sat. :)</td>\n",
       "    </tr>\n",
       "    <tr>\n",
       "      <th>1</th>\n",
       "      <td>263405084770172928</td>\n",
       "      <td>negative</td>\n",
       "      <td>Theo Walcott is still shit\\u002c watch Rafa and Johnny deal with him on Saturday.</td>\n",
       "    </tr>\n",
       "    <tr>\n",
       "      <th>2</th>\n",
       "      <td>262163168678248449</td>\n",
       "      <td>negative</td>\n",
       "      <td>its not that I\\u2019m a GSP fan\\u002c i just hate Nick Diaz. can\\u2019t wait for february.</td>\n",
       "    </tr>\n",
       "    <tr>\n",
       "      <th>3</th>\n",
       "      <td>264249301910310912</td>\n",
       "      <td>negative</td>\n",
       "      <td>Iranian general says Israel\\u2019s Iron Dome can\\u2019t deal with their missiles (keep talking like that and we may end up finding out)</td>\n",
       "    </tr>\n",
       "    <tr>\n",
       "      <th>4</th>\n",
       "      <td>262682041215234048</td>\n",
       "      <td>neutral</td>\n",
       "      <td>Tehran\\u002c Mon Amour: Obama Tried to Establish Ties with the Mullahs http://t.co/TZZzrrKa via @PJMedia_com No Barack Obama - Vote Mitt Romney</td>\n",
       "    </tr>\n",
       "  </tbody>\n",
       "</table>\n",
       "</div>"
      ],
      "text/plain": [
       "                   ID     Label  \\\n",
       "0  264183816548130816  positive   \n",
       "1  263405084770172928  negative   \n",
       "2  262163168678248449  negative   \n",
       "3  264249301910310912  negative   \n",
       "4  262682041215234048   neutral   \n",
       "\n",
       "                                                                                                                                             Tweet  \n",
       "0                                                                           Gas by my house hit $3.39!!!! I\\u2019m going to Chapel Hill on Sat. :)  \n",
       "1                                                                Theo Walcott is still shit\\u002c watch Rafa and Johnny deal with him on Saturday.  \n",
       "2                                                       its not that I\\u2019m a GSP fan\\u002c i just hate Nick Diaz. can\\u2019t wait for february.  \n",
       "3          Iranian general says Israel\\u2019s Iron Dome can\\u2019t deal with their missiles (keep talking like that and we may end up finding out)  \n",
       "4  Tehran\\u002c Mon Amour: Obama Tried to Establish Ties with the Mullahs http://t.co/TZZzrrKa via @PJMedia_com No Barack Obama - Vote Mitt Romney  "
      ]
     },
     "execution_count": 5,
     "metadata": {},
     "output_type": "execute_result"
    }
   ],
   "source": [
    "train_data.head(5)"
   ]
  },
  {
   "attachments": {},
   "cell_type": "markdown",
   "metadata": {},
   "source": [
    "Die Funktionen `translate_unicode()` und `clean_tweet()` werden auf jeden Tweet im Dataframe `train_data` angewandt."
   ]
  },
  {
   "cell_type": "code",
   "execution_count": 6,
   "metadata": {},
   "outputs": [
    {
     "name": "stderr",
     "output_type": "stream",
     "text": [
      "C:\\Users\\belau\\AppData\\Local\\Temp\\ipykernel_11004\\419590767.py:4: DeprecationWarning: invalid escape sequence '\\m'\n",
      "  col.encode().decode('unicode-escape'))\n",
      "C:\\Users\\belau\\AppData\\Local\\Temp\\ipykernel_11004\\419590767.py:4: DeprecationWarning: invalid escape sequence '\\_'\n",
      "  col.encode().decode('unicode-escape'))\n",
      "C:\\Users\\belau\\AppData\\Local\\Temp\\ipykernel_11004\\419590767.py:4: DeprecationWarning: invalid escape sequence '\\/'\n",
      "  col.encode().decode('unicode-escape'))\n",
      "C:\\Users\\belau\\AppData\\Local\\Temp\\ipykernel_11004\\419590767.py:4: DeprecationWarning: invalid escape sequence '\\ '\n",
      "  col.encode().decode('unicode-escape'))\n"
     ]
    }
   ],
   "source": [
    "train_data['Tweet'] = train_data['Tweet'].apply(clean_tweet)\n",
    "train_data['Tweet'] =  train_data['Tweet'].apply(translate_unicode).str.replace('\\\\','' , regex=True)"
   ]
  },
  {
   "attachments": {},
   "cell_type": "markdown",
   "metadata": {},
   "source": [
    "Der `Train Split` **nach** dem cleaning:"
   ]
  },
  {
   "cell_type": "code",
   "execution_count": 7,
   "metadata": {},
   "outputs": [
    {
     "data": {
      "text/html": [
       "<div>\n",
       "<style scoped>\n",
       "    .dataframe tbody tr th:only-of-type {\n",
       "        vertical-align: middle;\n",
       "    }\n",
       "\n",
       "    .dataframe tbody tr th {\n",
       "        vertical-align: top;\n",
       "    }\n",
       "\n",
       "    .dataframe thead th {\n",
       "        text-align: right;\n",
       "    }\n",
       "</style>\n",
       "<table border=\"1\" class=\"dataframe\">\n",
       "  <thead>\n",
       "    <tr style=\"text-align: right;\">\n",
       "      <th></th>\n",
       "      <th>ID</th>\n",
       "      <th>Label</th>\n",
       "      <th>Tweet</th>\n",
       "    </tr>\n",
       "  </thead>\n",
       "  <tbody>\n",
       "    <tr>\n",
       "      <th>0</th>\n",
       "      <td>264183816548130816</td>\n",
       "      <td>positive</td>\n",
       "      <td>Gas by my house hit $3.39!!!! I’m going to Chapel Hill on Sat. :)</td>\n",
       "    </tr>\n",
       "    <tr>\n",
       "      <th>1</th>\n",
       "      <td>263405084770172928</td>\n",
       "      <td>negative</td>\n",
       "      <td>Theo Walcott is still shit, watch Rafa and Johnny deal with him on Saturday.</td>\n",
       "    </tr>\n",
       "    <tr>\n",
       "      <th>2</th>\n",
       "      <td>262163168678248449</td>\n",
       "      <td>negative</td>\n",
       "      <td>its not that I’m a GSP fan, i just hate Nick Diaz. can’t wait for february.</td>\n",
       "    </tr>\n",
       "    <tr>\n",
       "      <th>3</th>\n",
       "      <td>264249301910310912</td>\n",
       "      <td>negative</td>\n",
       "      <td>Iranian general says Israel’s Iron Dome can’t deal with their missiles (keep talking like that and we may end up finding out)</td>\n",
       "    </tr>\n",
       "    <tr>\n",
       "      <th>4</th>\n",
       "      <td>262682041215234048</td>\n",
       "      <td>neutral</td>\n",
       "      <td>Tehran, Mon Amour: Obama Tried to Establish Ties with the Mullahs  via  No Barack Obama - Vote Mitt Romney</td>\n",
       "    </tr>\n",
       "  </tbody>\n",
       "</table>\n",
       "</div>"
      ],
      "text/plain": [
       "                   ID     Label  \\\n",
       "0  264183816548130816  positive   \n",
       "1  263405084770172928  negative   \n",
       "2  262163168678248449  negative   \n",
       "3  264249301910310912  negative   \n",
       "4  262682041215234048   neutral   \n",
       "\n",
       "                                                                                                                           Tweet  \n",
       "0                                                              Gas by my house hit $3.39!!!! I’m going to Chapel Hill on Sat. :)  \n",
       "1                                                   Theo Walcott is still shit, watch Rafa and Johnny deal with him on Saturday.  \n",
       "2                                                    its not that I’m a GSP fan, i just hate Nick Diaz. can’t wait for february.  \n",
       "3  Iranian general says Israel’s Iron Dome can’t deal with their missiles (keep talking like that and we may end up finding out)  \n",
       "4                     Tehran, Mon Amour: Obama Tried to Establish Ties with the Mullahs  via  No Barack Obama - Vote Mitt Romney  "
      ]
     },
     "execution_count": 7,
     "metadata": {},
     "output_type": "execute_result"
    }
   ],
   "source": [
    "train_data.head(5)"
   ]
  },
  {
   "attachments": {},
   "cell_type": "markdown",
   "metadata": {},
   "source": [
    "Reinigen der anderen beiden Datensplits."
   ]
  },
  {
   "cell_type": "code",
   "execution_count": 8,
   "metadata": {},
   "outputs": [
    {
     "name": "stderr",
     "output_type": "stream",
     "text": [
      "C:\\Users\\belau\\AppData\\Local\\Temp\\ipykernel_11004\\419590767.py:4: DeprecationWarning: invalid escape sequence '\\ '\n",
      "  col.encode().decode('unicode-escape'))\n",
      "C:\\Users\\belau\\AppData\\Local\\Temp\\ipykernel_11004\\419590767.py:4: DeprecationWarning: invalid escape sequence '\\m'\n",
      "  col.encode().decode('unicode-escape'))\n",
      "C:\\Users\\belau\\AppData\\Local\\Temp\\ipykernel_11004\\419590767.py:4: DeprecationWarning: invalid escape sequence '\\i'\n",
      "  col.encode().decode('unicode-escape'))\n",
      "C:\\Users\\belau\\AppData\\Local\\Temp\\ipykernel_11004\\419590767.py:4: DeprecationWarning: invalid escape sequence '\\('\n",
      "  col.encode().decode('unicode-escape'))\n",
      "C:\\Users\\belau\\AppData\\Local\\Temp\\ipykernel_11004\\419590767.py:4: DeprecationWarning: invalid escape sequence '\\o'\n",
      "  col.encode().decode('unicode-escape'))\n"
     ]
    }
   ],
   "source": [
    "dev_data['Tweet'] = dev_data['Tweet'].apply(clean_tweet)\n",
    "dev_data['Tweet'] =  dev_data['Tweet'].apply(translate_unicode).str.replace('\\\\','' , regex=True)\n",
    "\n",
    "test_data['Tweet'] = test_data['Tweet'].apply(clean_tweet)\n",
    "test_data['Tweet'] =  test_data['Tweet'].apply(translate_unicode).str.replace('\\\\','' , regex=True)"
   ]
  },
  {
   "attachments": {},
   "cell_type": "markdown",
   "metadata": {},
   "source": [
    "### <span style=\"color:red\"> 2.) Statisik  \n",
    "Im Folgenden wird die Statistik über den Umfang der Datensplits, sowie die Verteilung der Label vorgenommen. Für das Visualisieren der Statistik wird das Modul **matplotlib** verwendet."
   ]
  },
  {
   "cell_type": "code",
   "execution_count": 9,
   "metadata": {},
   "outputs": [],
   "source": [
    "from matplotlib import pyplot as plt"
   ]
  },
  {
   "attachments": {},
   "cell_type": "markdown",
   "metadata": {},
   "source": [
    "#### Umfang der Datensplits  \n",
    "Um die größe der Datensplits zu untersuchen, wird die Länge der Dataframes mit Barcharts visualisiert."
   ]
  },
  {
   "cell_type": "code",
   "execution_count": 10,
   "metadata": {},
   "outputs": [
    {
     "name": "stdout",
     "output_type": "stream",
     "text": [
      "[9684, 1654, 3547]\n"
     ]
    },
    {
     "data": {
      "image/png": "[encoded data removed]",
      "text/plain": [
       "<Figure size 640x480 with 1 Axes>"
      ]
     },
     "metadata": {},
     "output_type": "display_data"
    }
   ],
   "source": [
    "dfs = [train_data, dev_data, test_data]\n",
    "\n",
    "data_lens = [len(df.index) for df in dfs]\n",
    "print(data_lens)\n",
    "\n",
    "df_names = [\"Train Split\", \"Dev Split\", \"Test Split\"]\n",
    "\n",
    "plt.bar(df_names, data_lens, color=\"royalblue\")\n",
    "plt.xlabel(\"Datensplits\")\n",
    "plt.ylabel(\"Anzahl der Einträge\")\n",
    "plt.show()"
   ]
  },
  {
   "attachments": {},
   "cell_type": "markdown",
   "metadata": {},
   "source": [
    "Wir sehen, dass der `Train Split` deutlich größer als die beiden anderen Splits ausfällt. Er ist mit 9684 Einträgen etwa doppelt so groß wie die beiden anderen zusammen. Wobei der `Dev Split` mit 1654 Einträgen etwa doppelt so klein wie der `Test Split` mit 3547 Einträgen ist."
   ]
  },
  {
   "attachments": {},
   "cell_type": "markdown",
   "metadata": {},
   "source": [
    "#### Verteilung der Klassenlabel  \n",
    "Die Verteilung der Klassenlabel in den Datensplits wird ebenfalls per Barcharts visualisiert. Dazu werden die Anzahl der jeweiligen Label pro Split in Sublisten gespeichert und anschließend visualisiert."
   ]
  },
  {
   "cell_type": "code",
   "execution_count": 11,
   "metadata": {},
   "outputs": [
    {
     "name": "stdout",
     "output_type": "stream",
     "text": [
      "[[3640, 575, 1475], [1458, 340, 559], [4586, 739, 1513]]\n"
     ]
    }
   ],
   "source": [
    "labels = ['positive', 'negative', 'neutral']\n",
    "\n",
    "label_distr = []\n",
    "for label in labels:\n",
    "    tmp = []\n",
    "    for df in dfs:\n",
    "        tmp.append((df['Label'] == label).sum())\n",
    "    label_distr.append(tmp)\n",
    "\n",
    "print(label_distr)"
   ]
  },
  {
   "cell_type": "code",
   "execution_count": 12,
   "metadata": {},
   "outputs": [
    {
     "data": {
      "image/png": "[encoded data removed]",
      "text/plain": [
       "<Figure size 640x480 with 1 Axes>"
      ]
     },
     "metadata": {},
     "output_type": "display_data"
    }
   ],
   "source": [
    "X = np.arange(3)\n",
    "plt.bar(X + 0.00, label_distr[0], color = 'mediumseagreen', width = 0.25)\n",
    "plt.bar(X + 0.25, label_distr[1], color = 'indianred', width = 0.25)\n",
    "plt.bar(X + 0.50, label_distr[2], color = 'lightsteelblue', width = 0.25)\n",
    "plt.xticks(X + 0.25, df_names)\n",
    "plt.xlabel(\"Datensplits\")\n",
    "plt.ylabel(\"Anzahl der Label\")\n",
    "plt.legend(labels)\n",
    "plt.show()"
   ]
  },
  {
   "attachments": {},
   "cell_type": "markdown",
   "metadata": {},
   "source": [
    " Es ist erkennbar, dass die Verteilung der Label über die Splits relativ ähnlich ist. In jedem Datensplit gibt es deutlich mehr positive und neutrale als negative Label, wobei der Unterschied im Fall von `Dev Split` geringer ist. Des Weiteren lässt sich feststellen, dass es etwas mehr neutrale als positive Label gibt. Dies wird besonders deutlich im Fall von `Train Split`."
   ]
  },
  {
   "attachments": {},
   "cell_type": "markdown",
   "metadata": {},
   "source": [
    "### Pre-Processing  "
   ]
  },
  {
   "attachments": {},
   "cell_type": "markdown",
   "metadata": {},
   "source": [
    "Zunächst werden die Tweets tokenisiert und in einer neuen Spalte `df['token_tweets']` im Dataframe gespeichert. Dafür wird der `TweetTokenizer()` von nltk verwendet. Dieser bietet sich hier besonders gut an. "
   ]
  },
  {
   "cell_type": "code",
   "execution_count": 13,
   "metadata": {},
   "outputs": [
    {
     "data": {
      "text/html": [
       "<div>\n",
       "<style scoped>\n",
       "    .dataframe tbody tr th:only-of-type {\n",
       "        vertical-align: middle;\n",
       "    }\n",
       "\n",
       "    .dataframe tbody tr th {\n",
       "        vertical-align: top;\n",
       "    }\n",
       "\n",
       "    .dataframe thead th {\n",
       "        text-align: right;\n",
       "    }\n",
       "</style>\n",
       "<table border=\"1\" class=\"dataframe\">\n",
       "  <thead>\n",
       "    <tr style=\"text-align: right;\">\n",
       "      <th></th>\n",
       "      <th>ID</th>\n",
       "      <th>Label</th>\n",
       "      <th>Tweet</th>\n",
       "      <th>token_tweets</th>\n",
       "    </tr>\n",
       "  </thead>\n",
       "  <tbody>\n",
       "    <tr>\n",
       "      <th>0</th>\n",
       "      <td>264183816548130816</td>\n",
       "      <td>positive</td>\n",
       "      <td>Gas by my house hit $3.39!!!! I’m going to Chapel Hill on Sat. :)</td>\n",
       "      <td>[Gas, by, my, house, hit, $, 3.39, !, !, !, I, ’, m, going, to, Chapel, Hill, on, Sat, ., :)]</td>\n",
       "    </tr>\n",
       "    <tr>\n",
       "      <th>1</th>\n",
       "      <td>263405084770172928</td>\n",
       "      <td>negative</td>\n",
       "      <td>Theo Walcott is still shit, watch Rafa and Johnny deal with him on Saturday.</td>\n",
       "      <td>[Theo, Walcott, is, still, shit, ,, watch, Rafa, and, Johnny, deal, with, him, on, Saturday, .]</td>\n",
       "    </tr>\n",
       "    <tr>\n",
       "      <th>2</th>\n",
       "      <td>262163168678248449</td>\n",
       "      <td>negative</td>\n",
       "      <td>its not that I’m a GSP fan, i just hate Nick Diaz. can’t wait for february.</td>\n",
       "      <td>[its, not, that, I, ’, m, a, GSP, fan, ,, i, just, hate, Nick, Diaz, ., can, ’, t, wait, for, february, .]</td>\n",
       "    </tr>\n",
       "    <tr>\n",
       "      <th>3</th>\n",
       "      <td>264249301910310912</td>\n",
       "      <td>negative</td>\n",
       "      <td>Iranian general says Israel’s Iron Dome can’t deal with their missiles (keep talking like that and we may end up finding out)</td>\n",
       "      <td>[Iranian, general, says, Israel, ’, s, Iron, Dome, can, ’, t, deal, with, their, missiles, (, keep, talking, like, that, and, we, may, end, up, finding, out, )]</td>\n",
       "    </tr>\n",
       "    <tr>\n",
       "      <th>4</th>\n",
       "      <td>262682041215234048</td>\n",
       "      <td>neutral</td>\n",
       "      <td>Tehran, Mon Amour: Obama Tried to Establish Ties with the Mullahs  via  No Barack Obama - Vote Mitt Romney</td>\n",
       "      <td>[Tehran, ,, Mon, Amour, :, Obama, Tried, to, Establish, Ties, with, the, Mullahs, via, No, Barack, Obama, -, Vote, Mitt, Romney]</td>\n",
       "    </tr>\n",
       "  </tbody>\n",
       "</table>\n",
       "</div>"
      ],
      "text/plain": [
       "                   ID     Label  \\\n",
       "0  264183816548130816  positive   \n",
       "1  263405084770172928  negative   \n",
       "2  262163168678248449  negative   \n",
       "3  264249301910310912  negative   \n",
       "4  262682041215234048   neutral   \n",
       "\n",
       "                                                                                                                           Tweet  \\\n",
       "0                                                              Gas by my house hit $3.39!!!! I’m going to Chapel Hill on Sat. :)   \n",
       "1                                                   Theo Walcott is still shit, watch Rafa and Johnny deal with him on Saturday.   \n",
       "2                                                    its not that I’m a GSP fan, i just hate Nick Diaz. can’t wait for february.   \n",
       "3  Iranian general says Israel’s Iron Dome can’t deal with their missiles (keep talking like that and we may end up finding out)   \n",
       "4                     Tehran, Mon Amour: Obama Tried to Establish Ties with the Mullahs  via  No Barack Obama - Vote Mitt Romney   \n",
       "\n",
       "                                                                                                                                                       token_tweets  \n",
       "0                                                                     [Gas, by, my, house, hit, $, 3.39, !, !, !, I, ’, m, going, to, Chapel, Hill, on, Sat, ., :)]  \n",
       "1                                                                   [Theo, Walcott, is, still, shit, ,, watch, Rafa, and, Johnny, deal, with, him, on, Saturday, .]  \n",
       "2                                                        [its, not, that, I, ’, m, a, GSP, fan, ,, i, just, hate, Nick, Diaz, ., can, ’, t, wait, for, february, .]  \n",
       "3  [Iranian, general, says, Israel, ’, s, Iron, Dome, can, ’, t, deal, with, their, missiles, (, keep, talking, like, that, and, we, may, end, up, finding, out, )]  \n",
       "4                                  [Tehran, ,, Mon, Amour, :, Obama, Tried, to, Establish, Ties, with, the, Mullahs, via, No, Barack, Obama, -, Vote, Mitt, Romney]  "
      ]
     },
     "execution_count": 13,
     "metadata": {},
     "output_type": "execute_result"
    }
   ],
   "source": [
    "from nltk.tokenize import TweetTokenizer\n",
    "\n",
    "tokenizer = TweetTokenizer()\n",
    "\n",
    "train_data['token_tweets'] = train_data['Tweet'].apply(lambda x: tokenizer.tokenize(x))\n",
    "train_data.head(5)"
   ]
  },
  {
   "attachments": {},
   "cell_type": "markdown",
   "metadata": {},
   "source": [
    "Nun werden Stopwörter und Satzzeichen entfernt, da diese für die weitere Analyse nicht relevant sind. Wobei die Satztzeichen durch ein Apostroph erweitert werden, da diese beim Dekodieren der Unicodes erstellt wurden.\n"
   ]
  },
  {
   "cell_type": "code",
   "execution_count": 14,
   "metadata": {},
   "outputs": [
    {
     "data": {
      "text/html": [
       "<div>\n",
       "<style scoped>\n",
       "    .dataframe tbody tr th:only-of-type {\n",
       "        vertical-align: middle;\n",
       "    }\n",
       "\n",
       "    .dataframe tbody tr th {\n",
       "        vertical-align: top;\n",
       "    }\n",
       "\n",
       "    .dataframe thead th {\n",
       "        text-align: right;\n",
       "    }\n",
       "</style>\n",
       "<table border=\"1\" class=\"dataframe\">\n",
       "  <thead>\n",
       "    <tr style=\"text-align: right;\">\n",
       "      <th></th>\n",
       "      <th>ID</th>\n",
       "      <th>Label</th>\n",
       "      <th>Tweet</th>\n",
       "      <th>token_tweets</th>\n",
       "    </tr>\n",
       "  </thead>\n",
       "  <tbody>\n",
       "    <tr>\n",
       "      <th>0</th>\n",
       "      <td>264183816548130816</td>\n",
       "      <td>positive</td>\n",
       "      <td>Gas by my house hit $3.39!!!! I’m going to Chapel Hill on Sat. :)</td>\n",
       "      <td>[Gas, house, hit, 3.39, going, Chapel, Hill, Sat, :)]</td>\n",
       "    </tr>\n",
       "    <tr>\n",
       "      <th>1</th>\n",
       "      <td>263405084770172928</td>\n",
       "      <td>negative</td>\n",
       "      <td>Theo Walcott is still shit, watch Rafa and Johnny deal with him on Saturday.</td>\n",
       "      <td>[Theo, Walcott, still, shit, watch, Rafa, Johnny, deal, Saturday]</td>\n",
       "    </tr>\n",
       "    <tr>\n",
       "      <th>2</th>\n",
       "      <td>262163168678248449</td>\n",
       "      <td>negative</td>\n",
       "      <td>its not that I’m a GSP fan, i just hate Nick Diaz. can’t wait for february.</td>\n",
       "      <td>[GSP, fan, hate, Nick, Diaz, wait, february]</td>\n",
       "    </tr>\n",
       "    <tr>\n",
       "      <th>3</th>\n",
       "      <td>264249301910310912</td>\n",
       "      <td>negative</td>\n",
       "      <td>Iranian general says Israel’s Iron Dome can’t deal with their missiles (keep talking like that and we may end up finding out)</td>\n",
       "      <td>[Iranian, general, says, Israel, Iron, Dome, deal, missiles, keep, talking, like, may, end, finding]</td>\n",
       "    </tr>\n",
       "    <tr>\n",
       "      <th>4</th>\n",
       "      <td>262682041215234048</td>\n",
       "      <td>neutral</td>\n",
       "      <td>Tehran, Mon Amour: Obama Tried to Establish Ties with the Mullahs  via  No Barack Obama - Vote Mitt Romney</td>\n",
       "      <td>[Tehran, Mon, Amour, Obama, Tried, Establish, Ties, Mullahs, via, Barack, Obama, Vote, Mitt, Romney]</td>\n",
       "    </tr>\n",
       "  </tbody>\n",
       "</table>\n",
       "</div>"
      ],
      "text/plain": [
       "                   ID     Label  \\\n",
       "0  264183816548130816  positive   \n",
       "1  263405084770172928  negative   \n",
       "2  262163168678248449  negative   \n",
       "3  264249301910310912  negative   \n",
       "4  262682041215234048   neutral   \n",
       "\n",
       "                                                                                                                           Tweet  \\\n",
       "0                                                              Gas by my house hit $3.39!!!! I’m going to Chapel Hill on Sat. :)   \n",
       "1                                                   Theo Walcott is still shit, watch Rafa and Johnny deal with him on Saturday.   \n",
       "2                                                    its not that I’m a GSP fan, i just hate Nick Diaz. can’t wait for february.   \n",
       "3  Iranian general says Israel’s Iron Dome can’t deal with their missiles (keep talking like that and we may end up finding out)   \n",
       "4                     Tehran, Mon Amour: Obama Tried to Establish Ties with the Mullahs  via  No Barack Obama - Vote Mitt Romney   \n",
       "\n",
       "                                                                                           token_tweets  \n",
       "0                                                 [Gas, house, hit, 3.39, going, Chapel, Hill, Sat, :)]  \n",
       "1                                     [Theo, Walcott, still, shit, watch, Rafa, Johnny, deal, Saturday]  \n",
       "2                                                          [GSP, fan, hate, Nick, Diaz, wait, february]  \n",
       "3  [Iranian, general, says, Israel, Iron, Dome, deal, missiles, keep, talking, like, may, end, finding]  \n",
       "4  [Tehran, Mon, Amour, Obama, Tried, Establish, Ties, Mullahs, via, Barack, Obama, Vote, Mitt, Romney]  "
      ]
     },
     "execution_count": 14,
     "metadata": {},
     "output_type": "execute_result"
    }
   ],
   "source": [
    "from nltk.corpus import stopwords\n",
    "import string\n",
    "\n",
    "stop_words = set(stopwords.words('english'))\n",
    "\n",
    "punctuation = string.punctuation\n",
    "punctuation = punctuation + '’'\n",
    "\n",
    "train_data['token_tweets'] = train_data['token_tweets'].apply(lambda x: [word for word in x if word.lower() not in stop_words and word not in punctuation]) \n",
    "train_data.head(5)"
   ]
  },
  {
   "attachments": {},
   "cell_type": "markdown",
   "metadata": {},
   "source": [
    "Das Pre-Processing für die beiden anderen Dataframes:\n"
   ]
  },
  {
   "cell_type": "code",
   "execution_count": 15,
   "metadata": {},
   "outputs": [],
   "source": [
    "dev_data['token_tweets'] = dev_data['Tweet'].apply(lambda x: tokenizer.tokenize(x))\n",
    "dev_data['token_tweets'] = dev_data['token_tweets'].apply(lambda x: [word for word in x if word.lower() not in stop_words and word not in punctuation])\n",
    "\n",
    "test_data['token_tweets'] = test_data['Tweet'].apply(lambda x: tokenizer.tokenize(x))\n",
    "test_data['token_tweets'] = test_data['token_tweets'].apply(lambda x: [word for word in x if word.lower() not in stop_words and word not in punctuation])"
   ]
  },
  {
   "attachments": {},
   "cell_type": "markdown",
   "metadata": {},
   "source": [
    "### <span style=\"color:red\"> 3.) Baseline  \n",
    "Im Folgenden wird die Baseline der Sentiment Analyse erstellt und evaluiert.  "
   ]
  },
  {
   "attachments": {},
   "cell_type": "markdown",
   "metadata": {},
   "source": [
    "\n",
    "Für den Baseline Klassifizierer werden die Wörter in den Tweets zunächst nach positiven, neutralen und negativen Tweets sortiert."
   ]
  },
  {
   "cell_type": "code",
   "execution_count": 16,
   "metadata": {},
   "outputs": [
    {
     "name": "stdout",
     "output_type": "stream",
     "text": [
      "['Gas', 'house', 'hit', '3.39', 'going']\n",
      "['Tehran', 'Mon', 'Amour', 'Obama', 'Tried']\n",
      "['Theo', 'Walcott', 'still', 'shit', 'watch']\n"
     ]
    }
   ],
   "source": [
    "\n",
    "# Alle Wörter der als positive gelabelten Tweets:\n",
    "positive_words = [word for tweet in train_data[train_data['Label'] == 'positive']['token_tweets'] for word in tweet]\n",
    "# Analog für neutrale Tweets\n",
    "neutral_words = [word for tweet in train_data[train_data['Label'] == 'neutral']['token_tweets'] for word in tweet]\n",
    "# Analog für negative Tweets\n",
    "negative_words = [word for tweet in train_data[train_data['Label'] == 'negative']['token_tweets'] for word in tweet]\n",
    "\n",
    "print(positive_words[:5])\n",
    "print(neutral_words[:5])\n",
    "print(negative_words[:5])\n"
   ]
  },
  {
   "attachments": {},
   "cell_type": "markdown",
   "metadata": {},
   "source": [
    "#### Häufigkeitsverteilung  \n",
    "Für jede Wortliste wird nun eine Häufigkeitsverteilung erstellt und Wörter, welche in mehreren Listen vorkommen entfernt, bzw. ihre Frequenz auf 0 gesetzt. Für die weitere Feature Extraction werden die 500 häufigsten Wörter aller Verteilungen (`top_pos`, `top_neu`, `top_neg`) verwendet."
   ]
  },
  {
   "cell_type": "code",
   "execution_count": 17,
   "metadata": {},
   "outputs": [
    {
     "name": "stdout",
     "output_type": "stream",
     "text": [
      "['amazing', 'come', ':-)', 'favorite', 'thank']\n",
      "['come', 'club', '15', 'watch', '26']\n",
      "['fuck', 'worse', 'stupid', 'sucks', 'leaves']\n"
     ]
    }
   ],
   "source": [
    "#Wörter, die in allen 3 Listen auftauchen\n",
    "common_set = set(positive_words) & set(negative_words) & set(neutral_words)\n",
    "\n",
    "# Entferne redundante Wörter aus allen 3 Listen\n",
    "positive_words = [word for word in positive_words if word not in common_set]\n",
    "neutral_words = [word for word in neutral_words if word not in common_set]\n",
    "negative_words = [word for word in negative_words if word not in common_set]\n",
    "\n",
    "# Häufigkeitsverteilungen für alle 3 Listen\n",
    "pos_freq_dist = nltk.FreqDist(positive_words)\n",
    "neu_freq_dist = nltk.FreqDist(neutral_words)\n",
    "neg_freq_dist = nltk.FreqDist(negative_words)\n",
    "\n",
    "#Die Häufigkeit für redundante Wörter wird auf 0 gesetzt\n",
    "for word in common_set:\n",
    "    pos_freq_dist[word] = 0\n",
    "    neu_freq_dist[word] = 0\n",
    "    neg_freq_dist[word] = 0\n",
    "\n",
    "# Die 500 häufigsten Einträge in allen Verteilungen\n",
    "top_pos = [word.lower() for word, _ in pos_freq_dist.most_common(500)]\n",
    "top_neu = [word.lower() for word, _ in neu_freq_dist.most_common(500)]\n",
    "top_neg = [word.lower() for word, _ in neg_freq_dist.most_common(500)]\n",
    "\n",
    "print(top_pos[:5])\n",
    "print(top_neu[:5])\n",
    "print(top_neg[:5])"
   ]
  },
  {
   "attachments": {},
   "cell_type": "markdown",
   "metadata": {},
   "source": [
    "#### Feature Extraction  \n",
    "Die `extract_features()` Funktion bestimmt 6 verschiedene Features in einem Dictonary:\n",
    "- `features[f'contains positive]` Checkt jedes Wort im Tweet ob es ein Wort aus `top_pos` enthält \n",
    "- `features[f'contains negative]` Checkt jedes Wort im Tweet ob es ein Wort aus `top_neg` enthält\n",
    "- `features[f'contains neutral]` Checkt jedes Wort im Tweet ob es aus `top_neu` enthält\n",
    "- `features[\"pos_wordcount\"]` zählt für jeden Tweet wie viele Wörter aus `top_pos` enthalten sind\n",
    "- `features[\"neg_wordcount\"]` zählt für jeden Tweet wie viele Wörter aus `top_neg` enthalten sind\n",
    "- `features[\"neu_wordcount\"]` zählt für jeden Tweet wie viele Wörter aus `top_neu` enthalten sind  \n",
    "\n",
    "Wobei die Anzahl der Wörter aus `top_pos`, ``top_neg`` und `top_neu` über die Variable `top_word_count` geändert werden kann."
   ]
  },
  {
   "cell_type": "code",
   "execution_count": 18,
   "metadata": {},
   "outputs": [],
   "source": [
    "def extract_features(tweet,top_word_count):\n",
    "    features = {}\n",
    "    \n",
    "    pos_count = 0\n",
    "    neg_count = 0\n",
    "    neu_count = 0\n",
    "    \n",
    "    for word in top_pos[:top_word_count]:\n",
    "        features[f'contains positive({word})'] = (word in set(tweet))\n",
    "    for word in top_neg[:top_word_count]:\n",
    "        features[f'contains negative({word})'] = (word in set(tweet))\n",
    "    for word in top_neu[:top_word_count]:\n",
    "        features[f'contains neutral({word})'] = (word in set(tweet))\n",
    "    \n",
    "    for word in set(tweet):\n",
    "        if word.lower() in top_pos[:top_word_count]:\n",
    "            pos_count +=1\n",
    "        if word.lower() in top_neu[:top_word_count]:\n",
    "            neu_count +=1\n",
    "        if word.lower in top_neg[:top_word_count]:\n",
    "            neg_count += 1\n",
    "\n",
    "    features[\"pos_wordcount\"] = pos_count\n",
    "    features[\"neu_wordcount\"] = neu_count\n",
    "    features[\"neg_wordcount\"] = neg_count\n",
    "        \n",
    "    return features"
   ]
  },
  {
   "attachments": {},
   "cell_type": "markdown",
   "metadata": {},
   "source": [
    "#### Evaluation  \n",
    "\n",
    "`extract_features()` wird auf jeden Tweet in `df['token_tweets]` im Train und Test Dataframe angewendet, wobei die Label aus `df['Label']`beibehalten werden. Es werden für verschiedene Längen der häufigsten positiven/negativen/neutralen Wörtern jeweils ein `train_set` und ein `test_set` erstellt.\n",
    "  \n",
    "Jedes Element dieser Sets besteht aus einem Tuple, deren erstes Element die Features aus `extract_features()` und das zweite jeweils das vordefinierten Label aus `df['Label']` beinhalten.\n",
    "\n",
    "Für die Evaluation wird ein **Naive-Bayes-Klassifizierer** verwendet, welcher mit `train_set` trainiert und anschließend mit `test_set` getestet wird."
   ]
  },
  {
   "cell_type": "code",
   "execution_count": 19,
   "metadata": {},
   "outputs": [
    {
     "name": "stdout",
     "output_type": "stream",
     "text": [
      "Accuracy when featuring 50 most frequent words is at :  0.5111361714124613\n",
      "Accuracy when featuring 100 most frequent words is at :  0.5243868057513391\n",
      "Accuracy when featuring 250 most frequent words is at :  0.5348181561883282\n",
      "Accuracy when featuring 500 most frequent words is at :  0.5824640541302509\n"
     ]
    }
   ],
   "source": [
    "from nltk import NaiveBayesClassifier\n",
    "accuracies_baseline = []\n",
    "for word_count in [50, 100, 250, 500]:\n",
    "\n",
    "    train_set = [(extract_features(tweet, word_count),label) for (tweet, label) in zip(train_data.token_tweets, train_data.Label)]\n",
    "    test_set = [(extract_features(tweet, word_count),label) for (tweet, label) in zip(test_data.token_tweets, test_data.Label)]\n",
    "\n",
    "    classifier = NaiveBayesClassifier.train(train_set)\n",
    "\n",
    "    accuracy_baseline = nltk.classify.accuracy(classifier, test_set)\n",
    "    accuracies_baseline.append(accuracy_baseline)\n",
    "    print(f\"Accuracy when featuring {word_count} most frequent words is at : \",accuracy_baseline)"
   ]
  },
  {
   "attachments": {},
   "cell_type": "markdown",
   "metadata": {},
   "source": [
    "Es lässt sich erkennen, dass mit mehr Top Wörtern ein besseres Ergebnis erziehlt werden kann. Jedoch ist das Ergebnis mit 58 % bei den 500 häufigsten positiven/negativen/neutralen Wörtern immer noch sehr bescheiden.  \n",
    "\n",
    "Im Folgenden wird ein weiteres Verfahren getestet, um die Accuracy zu verbessern."
   ]
  },
  {
   "attachments": {},
   "cell_type": "markdown",
   "metadata": {},
   "source": [
    "### <span style=\"color:red\"> 4.) Verbessertes Sentiment Analysis Verfahren \n",
    "\n",
    "Für ein weiteres Verfahren werden Word Embedding per `Word2Vec` des Moduls `gensim` für die Feature Extraction verwendet. Zunächst wird das Model auf Basis **aller** tokenisierten Tweets erstellt und gespeichert.  \n",
    "  \n",
    "Es werden Train-, Dev-, und Testsplit verwendet, damit ein möglichst großes Vokabular vorhanden ist. Dafür werden die tokenisierten Tweets der jeweiligen Splits per `pd.concat()` konkatiniert.  \n",
    "\n",
    "Die größe der Wordvektoren wird auf 300 gesetzt, ähnlich wie im Vektoren-Lexikon von Google."
   ]
  },
  {
   "cell_type": "code",
   "execution_count": 20,
   "metadata": {},
   "outputs": [
    {
     "data": {
      "text/plain": [
       "(14885,)"
      ]
     },
     "execution_count": 20,
     "metadata": {},
     "output_type": "execute_result"
    }
   ],
   "source": [
    "#Konkatinieren der tokenisierten Tweets\n",
    "\n",
    "all_token_tweets = [train_data['token_tweets'], test_data['token_tweets'], dev_data['token_tweets']]\n",
    "merged_token_tweets = pd.concat(all_token_tweets)\n",
    "\n",
    "merged_token_tweets.shape"
   ]
  },
  {
   "attachments": {},
   "cell_type": "markdown",
   "metadata": {},
   "source": [
    "Erstellen des Word2Vec Models:"
   ]
  },
  {
   "cell_type": "code",
   "execution_count": 21,
   "metadata": {},
   "outputs": [],
   "source": [
    "from gensim.models import Word2Vec\n",
    "VECTOR_SIZE = 300\n",
    "#Erstellen des Models\n",
    "w2v_model = Word2Vec(merged_token_tweets,\n",
    "                                   vector_size=VECTOR_SIZE, \n",
    "                                   window=5,\n",
    "                                   min_count=1,\n",
    "                                   workers = 3,\n",
    "                                   sg = 1)\n",
    "#Speichern des Modells\n",
    "w2v_model.save('tweets.embedding')"
   ]
  },
  {
   "attachments": {},
   "cell_type": "markdown",
   "metadata": {},
   "source": [
    "Im Anschluss wird das erstellte Model mit `w2v_model.train()` trainiert:"
   ]
  },
  {
   "cell_type": "code",
   "execution_count": 22,
   "metadata": {},
   "outputs": [
    {
     "data": {
      "text/plain": [
       "(3402575, 3565580)"
      ]
     },
     "execution_count": 22,
     "metadata": {},
     "output_type": "execute_result"
    }
   ],
   "source": [
    "w2v_model = Word2Vec.load('tweets.embedding')\n",
    "w2v_model.train(merged_token_tweets, total_examples= len(merged_token_tweets), epochs=20)"
   ]
  },
  {
   "cell_type": "code",
   "execution_count": 23,
   "metadata": {},
   "outputs": [
    {
     "name": "stdout",
     "output_type": "stream",
     "text": [
      "Anzahl der Wortformen beträgt: 30888\n"
     ]
    },
    {
     "data": {
      "text/plain": [
       "[('Romney', 0.7593239545822144),\n",
       " ('Barack', 0.7407937049865723),\n",
       " ('proposes', 0.7326763272285461),\n",
       " ('Boehner', 0.7305948138237),\n",
       " ('Hussein', 0.6800503134727478)]"
      ]
     },
     "execution_count": 23,
     "metadata": {},
     "output_type": "execute_result"
    }
   ],
   "source": [
    "print(f\"Anzahl der Wortformen beträgt: {len(w2v_model.wv)}\")\n",
    "\n",
    "w2v_model.wv.most_similar(positive='Obama',topn=5)"
   ]
  },
  {
   "attachments": {},
   "cell_type": "markdown",
   "metadata": {},
   "source": [
    "Alternativ wird das votrainierte Word2Vec Lexikon von Google aus dem Notebook 12 verwendet."
   ]
  },
  {
   "cell_type": "code",
   "execution_count": 24,
   "metadata": {},
   "outputs": [],
   "source": [
    "import gensim.downloader as api\n",
    "wv = api.load('word2vec-google-news-300')"
   ]
  },
  {
   "attachments": {},
   "cell_type": "markdown",
   "metadata": {},
   "source": [
    "#### Feature Extraction"
   ]
  },
  {
   "attachments": {},
   "cell_type": "markdown",
   "metadata": {},
   "source": [
    "Die Funktion `word_vector()` erstellt einen Wortvektor für einen bestimmten Tweet auf Basis des trainierten Models `w2v_model`."
   ]
  },
  {
   "cell_type": "code",
   "execution_count": 25,
   "metadata": {},
   "outputs": [],
   "source": [
    "def word_vector(tweet, size):\n",
    "\n",
    "    #Initialisieren des Wortvektor\n",
    "    vec = np.zeros(size).reshape((1, size))\n",
    "    count = 0.\n",
    "    for word in tweet:\n",
    "        try:\n",
    "            vec += w2v_model.wv[word].reshape((1, size))\n",
    "            count += 1.\n",
    "        except KeyError: #Token wurde nicht gefunden\n",
    "                         \n",
    "            continue\n",
    "    if count != 0:\n",
    "        vec /= count #normalisieren des Vektors\n",
    "    return vec"
   ]
  },
  {
   "attachments": {},
   "cell_type": "markdown",
   "metadata": {},
   "source": [
    "Parallel dazu erstellt `google_word_vector()` einen Wortvektor aus Basis des Google Lexikons."
   ]
  },
  {
   "cell_type": "code",
   "execution_count": 26,
   "metadata": {},
   "outputs": [],
   "source": [
    "def google_word_vector(tweet, size):\n",
    "\n",
    "    #Initialisieren des Wortvektor\n",
    "    vec = np.zeros(size).reshape((1, size))\n",
    "    count = 0.\n",
    "    for word in tweet:\n",
    "        try:\n",
    "            vec += wv[word].reshape((1, size))\n",
    "            count += 1.\n",
    "        except KeyError: #Token wurde nicht gefunden\n",
    "                         \n",
    "            continue\n",
    "    if count != 0:\n",
    "        vec /= count #normalisieren des Vektors\n",
    "    return vec"
   ]
  },
  {
   "attachments": {},
   "cell_type": "markdown",
   "metadata": {},
   "source": [
    "Für die Feature Extraction wird die Funktion `w2v_extract_features()` verwendet.  \n",
    "\n",
    " Es werden Wortvektoren auf Basis der tokenisierten Tweets aus `data['token_tweets']` erstellt und in einer Matrix `wordvec_arrays` gespeichert und schlussendlich in ein Dataframe `wordvec_df` verpackt.  \n",
    " \n",
    "Die Sentiment-Label aus `data['Label']` werden konkatiniert. Mit dem Boolean `is_google` kann entschieden werden, welche Wortvektor Funktion verwendet wird."
   ]
  },
  {
   "cell_type": "code",
   "execution_count": 27,
   "metadata": {},
   "outputs": [],
   "source": [
    "def w2v_extract_features(data, length, is_google):\n",
    "    \n",
    "    #Initalisieren der Wordvektor-Matrix\n",
    "    wordvec_arrays = np.zeros((len(data['token_tweets']), length))\n",
    "\n",
    "    #Matrix wird mit Wordvektoren gefüllt\n",
    "    for i in range(len(data['token_tweets'])):\n",
    "\n",
    "        if is_google:\n",
    "            #Wortvektoren auf Basis des Google Models\n",
    "            wordvec_arrays[i,:] = google_word_vector(data['token_tweets'][i], length)\n",
    "\n",
    "        else:\n",
    "            #Wortvektoren auf basis des selbst trainierten Models\n",
    "            wordvec_arrays[i,:] = word_vector(data['token_tweets'][i], length)\n",
    "\n",
    "    #Erstellen des Dataframes\n",
    "    wordvec_df = pd.DataFrame(wordvec_arrays)\n",
    "\n",
    "    #Konkatinieren der Label\n",
    "    wordvec_df_with_labels = pd.concat([wordvec_df, data['Label']], axis=1)\n",
    "    return wordvec_df_with_labels"
   ]
  },
  {
   "attachments": {},
   "cell_type": "markdown",
   "metadata": {},
   "source": [
    "#### Train und Test Set"
   ]
  },
  {
   "attachments": {},
   "cell_type": "markdown",
   "metadata": {},
   "source": [
    "Nun werden Train und Test Dataframes erstellt. Einmal für das selbst trainierte Model und einmal auf Basis des vortrainierten Google Models."
   ]
  },
  {
   "cell_type": "code",
   "execution_count": 28,
   "metadata": {},
   "outputs": [],
   "source": [
    "#Test und Train Dataframe auf Basis des trainierten Models\n",
    "train_wordvec_df_with_labels = w2v_extract_features(train_data, VECTOR_SIZE, is_google=False)\n",
    "test_wordvec_df_with_labels = w2v_extract_features(test_data, VECTOR_SIZE, is_google=False)\n",
    "\n",
    "#Test und Train Dataframe auf Basis des Google Lexikons\n",
    "google_train_wordvec_df_with_labels = w2v_extract_features(train_data, VECTOR_SIZE, is_google=True)\n",
    "google_test_wordvec_df_with_labels = w2v_extract_features(test_data, VECTOR_SIZE, is_google=True)"
   ]
  },
  {
   "attachments": {},
   "cell_type": "markdown",
   "metadata": {},
   "source": [
    "Jede Zeile im Train und Test Dataframe besteht nun aus den 300 Features des Tweet-Wortvektors und dem passenden Label:"
   ]
  },
  {
   "cell_type": "code",
   "execution_count": 29,
   "metadata": {},
   "outputs": [
    {
     "data": {
      "text/html": [
       "<div>\n",
       "<style scoped>\n",
       "    .dataframe tbody tr th:only-of-type {\n",
       "        vertical-align: middle;\n",
       "    }\n",
       "\n",
       "    .dataframe tbody tr th {\n",
       "        vertical-align: top;\n",
       "    }\n",
       "\n",
       "    .dataframe thead th {\n",
       "        text-align: right;\n",
       "    }\n",
       "</style>\n",
       "<table border=\"1\" class=\"dataframe\">\n",
       "  <thead>\n",
       "    <tr style=\"text-align: right;\">\n",
       "      <th></th>\n",
       "      <th>0</th>\n",
       "      <th>1</th>\n",
       "      <th>2</th>\n",
       "      <th>3</th>\n",
       "      <th>4</th>\n",
       "      <th>5</th>\n",
       "      <th>6</th>\n",
       "      <th>7</th>\n",
       "      <th>8</th>\n",
       "      <th>9</th>\n",
       "      <th>...</th>\n",
       "      <th>291</th>\n",
       "      <th>292</th>\n",
       "      <th>293</th>\n",
       "      <th>294</th>\n",
       "      <th>295</th>\n",
       "      <th>296</th>\n",
       "      <th>297</th>\n",
       "      <th>298</th>\n",
       "      <th>299</th>\n",
       "      <th>Label</th>\n",
       "    </tr>\n",
       "  </thead>\n",
       "  <tbody>\n",
       "    <tr>\n",
       "      <th>0</th>\n",
       "      <td>-0.188363</td>\n",
       "      <td>0.044593</td>\n",
       "      <td>0.100434</td>\n",
       "      <td>0.259165</td>\n",
       "      <td>-0.052016</td>\n",
       "      <td>-0.374078</td>\n",
       "      <td>-0.000308</td>\n",
       "      <td>0.354792</td>\n",
       "      <td>0.330590</td>\n",
       "      <td>-0.287274</td>\n",
       "      <td>...</td>\n",
       "      <td>0.242554</td>\n",
       "      <td>-0.088605</td>\n",
       "      <td>0.142085</td>\n",
       "      <td>0.263226</td>\n",
       "      <td>0.163608</td>\n",
       "      <td>-0.173197</td>\n",
       "      <td>-0.114157</td>\n",
       "      <td>0.120434</td>\n",
       "      <td>-0.032656</td>\n",
       "      <td>positive</td>\n",
       "    </tr>\n",
       "    <tr>\n",
       "      <th>1</th>\n",
       "      <td>0.178456</td>\n",
       "      <td>0.292390</td>\n",
       "      <td>0.023283</td>\n",
       "      <td>-0.093870</td>\n",
       "      <td>0.237932</td>\n",
       "      <td>-0.280149</td>\n",
       "      <td>0.223168</td>\n",
       "      <td>0.282662</td>\n",
       "      <td>-0.144121</td>\n",
       "      <td>0.052211</td>\n",
       "      <td>...</td>\n",
       "      <td>0.415813</td>\n",
       "      <td>-0.098451</td>\n",
       "      <td>0.119488</td>\n",
       "      <td>0.002041</td>\n",
       "      <td>0.157508</td>\n",
       "      <td>0.057841</td>\n",
       "      <td>0.003562</td>\n",
       "      <td>0.190191</td>\n",
       "      <td>-0.237399</td>\n",
       "      <td>negative</td>\n",
       "    </tr>\n",
       "    <tr>\n",
       "      <th>2</th>\n",
       "      <td>0.094433</td>\n",
       "      <td>0.391684</td>\n",
       "      <td>-0.023818</td>\n",
       "      <td>0.125311</td>\n",
       "      <td>-0.183807</td>\n",
       "      <td>-0.064948</td>\n",
       "      <td>0.338421</td>\n",
       "      <td>-0.053075</td>\n",
       "      <td>-0.034775</td>\n",
       "      <td>-0.133316</td>\n",
       "      <td>...</td>\n",
       "      <td>0.186776</td>\n",
       "      <td>-0.039508</td>\n",
       "      <td>-0.055037</td>\n",
       "      <td>0.165965</td>\n",
       "      <td>0.181441</td>\n",
       "      <td>0.053882</td>\n",
       "      <td>-0.098332</td>\n",
       "      <td>0.141128</td>\n",
       "      <td>0.005548</td>\n",
       "      <td>negative</td>\n",
       "    </tr>\n",
       "    <tr>\n",
       "      <th>3</th>\n",
       "      <td>0.020434</td>\n",
       "      <td>0.210908</td>\n",
       "      <td>0.071782</td>\n",
       "      <td>-0.079606</td>\n",
       "      <td>0.004344</td>\n",
       "      <td>-0.238447</td>\n",
       "      <td>0.081266</td>\n",
       "      <td>0.215930</td>\n",
       "      <td>0.069858</td>\n",
       "      <td>-0.061298</td>\n",
       "      <td>...</td>\n",
       "      <td>0.198510</td>\n",
       "      <td>0.090091</td>\n",
       "      <td>-0.084991</td>\n",
       "      <td>-0.031249</td>\n",
       "      <td>0.237559</td>\n",
       "      <td>0.022044</td>\n",
       "      <td>-0.060763</td>\n",
       "      <td>0.316439</td>\n",
       "      <td>-0.074157</td>\n",
       "      <td>negative</td>\n",
       "    </tr>\n",
       "    <tr>\n",
       "      <th>4</th>\n",
       "      <td>0.004129</td>\n",
       "      <td>0.263781</td>\n",
       "      <td>0.136963</td>\n",
       "      <td>0.050277</td>\n",
       "      <td>0.192543</td>\n",
       "      <td>-0.180275</td>\n",
       "      <td>0.218149</td>\n",
       "      <td>0.346590</td>\n",
       "      <td>0.061969</td>\n",
       "      <td>-0.035911</td>\n",
       "      <td>...</td>\n",
       "      <td>0.175340</td>\n",
       "      <td>-0.055211</td>\n",
       "      <td>-0.123395</td>\n",
       "      <td>0.198778</td>\n",
       "      <td>0.144404</td>\n",
       "      <td>0.141386</td>\n",
       "      <td>-0.169822</td>\n",
       "      <td>0.160508</td>\n",
       "      <td>-0.117805</td>\n",
       "      <td>neutral</td>\n",
       "    </tr>\n",
       "  </tbody>\n",
       "</table>\n",
       "<p>5 rows × 301 columns</p>\n",
       "</div>"
      ],
      "text/plain": [
       "          0         1         2         3         4         5         6  \\\n",
       "0 -0.188363  0.044593  0.100434  0.259165 -0.052016 -0.374078 -0.000308   \n",
       "1  0.178456  0.292390  0.023283 -0.093870  0.237932 -0.280149  0.223168   \n",
       "2  0.094433  0.391684 -0.023818  0.125311 -0.183807 -0.064948  0.338421   \n",
       "3  0.020434  0.210908  0.071782 -0.079606  0.004344 -0.238447  0.081266   \n",
       "4  0.004129  0.263781  0.136963  0.050277  0.192543 -0.180275  0.218149   \n",
       "\n",
       "          7         8         9  ...       291       292       293       294  \\\n",
       "0  0.354792  0.330590 -0.287274  ...  0.242554 -0.088605  0.142085  0.263226   \n",
       "1  0.282662 -0.144121  0.052211  ...  0.415813 -0.098451  0.119488  0.002041   \n",
       "2 -0.053075 -0.034775 -0.133316  ...  0.186776 -0.039508 -0.055037  0.165965   \n",
       "3  0.215930  0.069858 -0.061298  ...  0.198510  0.090091 -0.084991 -0.031249   \n",
       "4  0.346590  0.061969 -0.035911  ...  0.175340 -0.055211 -0.123395  0.198778   \n",
       "\n",
       "        295       296       297       298       299     Label  \n",
       "0  0.163608 -0.173197 -0.114157  0.120434 -0.032656  positive  \n",
       "1  0.157508  0.057841  0.003562  0.190191 -0.237399  negative  \n",
       "2  0.181441  0.053882 -0.098332  0.141128  0.005548  negative  \n",
       "3  0.237559  0.022044 -0.060763  0.316439 -0.074157  negative  \n",
       "4  0.144404  0.141386 -0.169822  0.160508 -0.117805   neutral  \n",
       "\n",
       "[5 rows x 301 columns]"
      ]
     },
     "execution_count": 29,
     "metadata": {},
     "output_type": "execute_result"
    }
   ],
   "source": [
    "train_wordvec_df_with_labels.head(5)"
   ]
  },
  {
   "attachments": {},
   "cell_type": "markdown",
   "metadata": {},
   "source": [
    "Nun werden mit Hilfe der Funktion `row_to_tupel()` erneut neue `train_set` und `test_set` für Aufgabe 6 erstellt. Sie bestehen aus Tupeln, welche als erstes Element den Feature Wordvektor aus dem Wordvektor Dataframe und als zweites Element das Label haben."
   ]
  },
  {
   "cell_type": "code",
   "execution_count": 30,
   "metadata": {},
   "outputs": [],
   "source": [
    "#Funktion, welche aus einer Reihe im Dataframe ein Tuple aus Feature Wordvektor und Label erstellt\n",
    "\n",
    "def row_to_tuple(row):\n",
    "   features = {}\n",
    "   for i, value in enumerate(row[:-1]):\n",
    "       features[f\"feature_{i}\"] = value\n",
    "   return (features, row['Label'])"
   ]
  },
  {
   "attachments": {},
   "cell_type": "markdown",
   "metadata": {},
   "source": [
    "Für beide Modelle werden jeweils ein Train und ein Test Set erstellt."
   ]
  },
  {
   "cell_type": "code",
   "execution_count": 31,
   "metadata": {},
   "outputs": [
    {
     "data": {
      "text/plain": [
       "({'feature_0': -0.18836285091108745,\n",
       "  'feature_1': 0.04459305071375436,\n",
       "  'feature_2': 0.10043414268228743,\n",
       "  'feature_3': 0.25916521064937115,\n",
       "  'feature_4': -0.052015813843657575,\n",
       "  'feature_5': -0.37407831102609634,\n",
       "  'feature_6': -0.00030801041672627133,\n",
       "  'feature_7': 0.3547915418942769,\n",
       "  'feature_8': 0.3305904045701027,\n",
       "  'feature_9': -0.2872738349768851,\n",
       "  'feature_10': 0.12294483308990796,\n",
       "  'feature_11': -0.058204936484495796,\n",
       "  'feature_12': -0.03631905673278703,\n",
       "  'feature_13': 0.15118388541870648,\n",
       "  'feature_14': 0.022578960491551295,\n",
       "  'feature_15': -0.009590681849254502,\n",
       "  'feature_16': 0.03930699701110522,\n",
       "  'feature_17': -0.2016555848531425,\n",
       "  'feature_18': 0.20344232105546528,\n",
       "  'feature_19': -0.017368490083350077,\n",
       "  'feature_20': -0.16547716243399513,\n",
       "  'feature_21': -0.09068352604905765,\n",
       "  'feature_22': 0.13654424167341656,\n",
       "  'feature_23': 0.10534591144985622,\n",
       "  'feature_24': 0.03665490308776498,\n",
       "  'feature_25': -0.12475849398308331,\n",
       "  'feature_26': -0.19621609068579143,\n",
       "  'feature_27': 0.11914566604213582,\n",
       "  'feature_28': -0.23871926425231826,\n",
       "  'feature_29': -0.15112574812438753,\n",
       "  'feature_30': 0.12738434846202532,\n",
       "  'feature_31': -0.09917339216917753,\n",
       "  'feature_32': 0.04589027456111378,\n",
       "  'feature_33': 0.04203626171996196,\n",
       "  'feature_34': 0.041245027548737,\n",
       "  'feature_35': -0.029067280288371775,\n",
       "  'feature_36': -0.07269701982537906,\n",
       "  'feature_37': -0.1322687417268753,\n",
       "  'feature_38': -0.17228974712391695,\n",
       "  'feature_39': 0.09144319366249773,\n",
       "  'feature_40': 0.03934526381393274,\n",
       "  'feature_41': 0.21936200890276167,\n",
       "  'feature_42': -0.11119004297587606,\n",
       "  'feature_43': -0.1496286788606085,\n",
       "  'feature_44': -0.039739576996200614,\n",
       "  'feature_45': 0.14896995424189502,\n",
       "  'feature_46': 0.005356393651001983,\n",
       "  'feature_47': 0.23110716376039717,\n",
       "  'feature_48': -0.017630501546793513,\n",
       "  'feature_49': 0.24765833177500302,\n",
       "  'feature_50': 0.14742339495569468,\n",
       "  'feature_51': 0.14516752906557587,\n",
       "  'feature_52': -0.3204406251509984,\n",
       "  'feature_53': -0.07655706815421581,\n",
       "  'feature_54': 0.09301440748903486,\n",
       "  'feature_55': 0.09873783629801539,\n",
       "  'feature_56': 0.153230842616823,\n",
       "  'feature_57': -0.010342179901070066,\n",
       "  'feature_58': 0.0773141048848629,\n",
       "  'feature_59': -0.003755454362059633,\n",
       "  'feature_60': -0.06297472057243188,\n",
       "  'feature_61': 0.009751383111708693,\n",
       "  'feature_62': 0.25837759921948117,\n",
       "  'feature_63': -0.04240027517597708,\n",
       "  'feature_64': -0.044312588663564786,\n",
       "  'feature_65': -0.03173199502958192,\n",
       "  'feature_66': -0.15278075076639652,\n",
       "  'feature_67': 0.16014323186957174,\n",
       "  'feature_68': -0.09397511391176118,\n",
       "  'feature_69': -0.04503525917728742,\n",
       "  'feature_70': -0.14495157077908516,\n",
       "  'feature_71': -0.04497639213999113,\n",
       "  'feature_72': 0.020574637171294954,\n",
       "  'feature_73': -0.13513166498806742,\n",
       "  'feature_74': 0.06631963203350703,\n",
       "  'feature_75': 0.04232889869146877,\n",
       "  'feature_76': -0.1494262951115767,\n",
       "  'feature_77': -0.1322611250086791,\n",
       "  'feature_78': -0.18913830237256157,\n",
       "  'feature_79': 0.0067376792430877686,\n",
       "  'feature_80': -0.0679452318452402,\n",
       "  'feature_81': -0.014095843252208497,\n",
       "  'feature_82': 0.010407934068805642,\n",
       "  'feature_83': 0.47690048317114514,\n",
       "  'feature_84': 0.1994388211104605,\n",
       "  'feature_85': 0.03818807331845164,\n",
       "  'feature_86': 0.10738428309559822,\n",
       "  'feature_87': 0.23515847987598842,\n",
       "  'feature_88': 0.2148001909049021,\n",
       "  'feature_89': 0.026185248357554276,\n",
       "  'feature_90': -0.05821606842800975,\n",
       "  'feature_91': -0.009171266108751297,\n",
       "  'feature_92': -0.017404276463720534,\n",
       "  'feature_93': 0.1328680970085164,\n",
       "  'feature_94': 0.0010937787592411041,\n",
       "  'feature_95': 0.18177242243352035,\n",
       "  'feature_96': 0.04188713183005651,\n",
       "  'feature_97': 0.12199327980892526,\n",
       "  'feature_98': -0.17108018282386991,\n",
       "  'feature_99': 0.04881885482205285,\n",
       "  'feature_100': 0.05437986325058672,\n",
       "  'feature_101': 0.0515032299897737,\n",
       "  'feature_102': -0.021449968839685123,\n",
       "  'feature_103': -0.14003822228146923,\n",
       "  'feature_104': -0.052933568548825055,\n",
       "  'feature_105': 0.05828901297516293,\n",
       "  'feature_106': -0.010720912729286484,\n",
       "  'feature_107': 0.1363544762134552,\n",
       "  'feature_108': -0.09872153028845787,\n",
       "  'feature_109': -0.1548736063349578,\n",
       "  'feature_110': -0.20917259487840864,\n",
       "  'feature_111': -0.11555918554464976,\n",
       "  'feature_112': -0.12879000552412537,\n",
       "  'feature_113': -0.02669657011412912,\n",
       "  'feature_114': 0.14800138937102425,\n",
       "  'feature_115': 0.014703428993622461,\n",
       "  'feature_116': 0.023143598188956577,\n",
       "  'feature_117': -0.3056595346166028,\n",
       "  'feature_118': 0.13099074819021755,\n",
       "  'feature_119': -0.174540555725495,\n",
       "  'feature_120': 0.18862344986862606,\n",
       "  'feature_121': 0.1600414099585679,\n",
       "  'feature_122': 0.24227719919549096,\n",
       "  'feature_123': -0.06153199552661843,\n",
       "  'feature_124': 0.013474864264329275,\n",
       "  'feature_125': 0.2863919759790103,\n",
       "  'feature_126': -0.10236087400052282,\n",
       "  'feature_127': -0.13632740742630428,\n",
       "  'feature_128': 0.13149957020262568,\n",
       "  'feature_129': 0.14592465877326,\n",
       "  'feature_130': 0.12023195086254014,\n",
       "  'feature_131': 0.29875993852814037,\n",
       "  'feature_132': 0.1862912873427073,\n",
       "  'feature_133': 0.09274071475697888,\n",
       "  'feature_134': 0.22873489061991373,\n",
       "  'feature_135': -0.012043739358584086,\n",
       "  'feature_136': -0.007847600616514683,\n",
       "  'feature_137': -0.0956451834903823,\n",
       "  'feature_138': -0.3203481568230523,\n",
       "  'feature_139': -0.31237563118338585,\n",
       "  'feature_140': -0.030943974438640807,\n",
       "  'feature_141': -0.13199253721783558,\n",
       "  'feature_142': -0.08357221809112364,\n",
       "  'feature_143': 0.09457941436105305,\n",
       "  'feature_144': 0.13967272473706138,\n",
       "  'feature_145': -0.15319350357943526,\n",
       "  'feature_146': -0.0162614273528258,\n",
       "  'feature_147': -0.001263478770852089,\n",
       "  'feature_148': 0.030562053059434727,\n",
       "  'feature_149': -0.0709562607937389,\n",
       "  'feature_150': -0.033668232874737844,\n",
       "  'feature_151': -0.23928982433345583,\n",
       "  'feature_152': -0.1540901043659283,\n",
       "  'feature_153': -0.07600960870169932,\n",
       "  'feature_154': -0.002682198459903399,\n",
       "  'feature_155': 0.07534462275604407,\n",
       "  'feature_156': -0.2607654221355915,\n",
       "  'feature_157': -0.3177933196226756,\n",
       "  'feature_158': -0.03170139222897382,\n",
       "  'feature_159': 0.1735736362429129,\n",
       "  'feature_160': 0.009121776868899664,\n",
       "  'feature_161': 0.04123734600014157,\n",
       "  'feature_162': 0.10882546255985896,\n",
       "  'feature_163': 0.08771284176812817,\n",
       "  'feature_164': -0.11802199762314558,\n",
       "  'feature_165': 0.01201858687111073,\n",
       "  'feature_166': 0.0228652519484361,\n",
       "  'feature_167': 0.08650943986140192,\n",
       "  'feature_168': -0.08688939755989446,\n",
       "  'feature_169': 0.12006674075706138,\n",
       "  'feature_170': -0.14376220624479982,\n",
       "  'feature_171': 0.0713155432862954,\n",
       "  'feature_172': 0.16197033557626936,\n",
       "  'feature_173': 0.021339097716716222,\n",
       "  'feature_174': -0.14132620963371462,\n",
       "  'feature_175': 0.1265901028075152,\n",
       "  'feature_176': 0.1825559354490704,\n",
       "  'feature_177': -0.16496465686294767,\n",
       "  'feature_178': 0.18225015679167378,\n",
       "  'feature_179': 0.03377689219390353,\n",
       "  'feature_180': -0.14045428298413754,\n",
       "  'feature_181': 0.017010064071251288,\n",
       "  'feature_182': -0.09143692989730173,\n",
       "  'feature_183': -0.17085391614172193,\n",
       "  'feature_184': -0.09547917172312737,\n",
       "  'feature_185': -0.059672371898260385,\n",
       "  'feature_186': 0.317306046684583,\n",
       "  'feature_187': 0.0753590174847179,\n",
       "  'feature_188': 0.0289825861238771,\n",
       "  'feature_189': -0.0659780783785714,\n",
       "  'feature_190': 0.23375317940695417,\n",
       "  'feature_191': 0.12373463395569059,\n",
       "  'feature_192': -0.11580787681870991,\n",
       "  'feature_193': -0.19081978417105144,\n",
       "  'feature_194': -0.14870395966702038,\n",
       "  'feature_195': -0.19416657079839045,\n",
       "  'feature_196': 0.04749778544323312,\n",
       "  'feature_197': -0.09424349665641785,\n",
       "  'feature_198': 0.19244881181253326,\n",
       "  'feature_199': 0.03280707117584017,\n",
       "  'feature_200': 0.07803572900593281,\n",
       "  'feature_201': 0.21837493839363256,\n",
       "  'feature_202': -0.05635256040841341,\n",
       "  'feature_203': -0.2170376309918033,\n",
       "  'feature_204': 0.058934030045444764,\n",
       "  'feature_205': -0.1251686184421285,\n",
       "  'feature_206': 0.10801461649437745,\n",
       "  'feature_207': 0.21841108095314768,\n",
       "  'feature_208': -0.05862128051618735,\n",
       "  'feature_209': -0.15001844208099,\n",
       "  'feature_210': -0.019392704746375482,\n",
       "  'feature_211': -0.10519929726918538,\n",
       "  'feature_212': -0.3735833838582039,\n",
       "  'feature_213': -0.000664760888968077,\n",
       "  'feature_214': 0.15315436095827156,\n",
       "  'feature_215': -0.2432744660311275,\n",
       "  'feature_216': -0.08235528728821212,\n",
       "  'feature_217': -0.18512106754092705,\n",
       "  'feature_218': -0.28360183505962294,\n",
       "  'feature_219': -0.04312556506031089,\n",
       "  'feature_220': 0.14537311479863194,\n",
       "  'feature_221': -0.09037422274963723,\n",
       "  'feature_222': -0.012982280614475409,\n",
       "  'feature_223': -0.045236752471990056,\n",
       "  'feature_224': -0.1092840540740225,\n",
       "  'feature_225': -0.36205785390403533,\n",
       "  'feature_226': 0.009824376967218187,\n",
       "  'feature_227': 0.021246743336733844,\n",
       "  'feature_228': 0.016998438992434077,\n",
       "  'feature_229': 0.02587407319030414,\n",
       "  'feature_230': -0.0903166506646408,\n",
       "  'feature_231': -0.1193027939233515,\n",
       "  'feature_232': -0.10028268293374115,\n",
       "  'feature_233': 0.0022582413835657966,\n",
       "  'feature_234': -0.1382562287358774,\n",
       "  'feature_235': 0.004917400682138072,\n",
       "  'feature_236': 0.038464270532131195,\n",
       "  'feature_237': 0.20758534388409722,\n",
       "  'feature_238': 0.05410159151587221,\n",
       "  'feature_239': -0.1985172851321598,\n",
       "  'feature_240': 0.2877132222056389,\n",
       "  'feature_241': -0.058104839382900134,\n",
       "  'feature_242': 0.014159890150444375,\n",
       "  'feature_243': 0.21127414165271652,\n",
       "  'feature_244': 0.05626521983261531,\n",
       "  'feature_245': -0.3575822462638219,\n",
       "  'feature_246': 0.08086241854147778,\n",
       "  'feature_247': -0.15330182378076845,\n",
       "  'feature_248': -0.041821522638201714,\n",
       "  'feature_249': 0.2633493141167694,\n",
       "  'feature_250': 0.03294375414649645,\n",
       "  'feature_251': 0.1282805438256926,\n",
       "  'feature_252': 0.35307533542315167,\n",
       "  'feature_253': 0.06775764417317179,\n",
       "  'feature_254': -0.12916623995018503,\n",
       "  'feature_255': -0.005457757247818841,\n",
       "  'feature_256': 0.3745388918452793,\n",
       "  'feature_257': 0.014813891198072169,\n",
       "  'feature_258': -0.285892135463655,\n",
       "  'feature_259': -0.21036185158623588,\n",
       "  'feature_260': 0.1336516665501727,\n",
       "  'feature_261': 0.14424493532472601,\n",
       "  'feature_262': 0.23193289422326618,\n",
       "  'feature_263': -0.4116810949312316,\n",
       "  'feature_264': 0.003756018148528205,\n",
       "  'feature_265': 0.14394360449579027,\n",
       "  'feature_266': 0.08562985266972747,\n",
       "  'feature_267': 0.26134980987343526,\n",
       "  'feature_268': -0.1960492403142982,\n",
       "  'feature_269': -0.049977750413947634,\n",
       "  'feature_270': 0.11582857766188681,\n",
       "  'feature_271': 0.08504005500839816,\n",
       "  'feature_272': 0.06627042674356037,\n",
       "  'feature_273': -0.07557802771528561,\n",
       "  'feature_274': 0.04891429137852457,\n",
       "  'feature_275': 0.07562931448531647,\n",
       "  'feature_276': -0.007219305468930138,\n",
       "  'feature_277': 0.08638725574645731,\n",
       "  'feature_278': -0.22746753816803297,\n",
       "  'feature_279': 0.03217015591346555,\n",
       "  'feature_280': 0.03294541875624822,\n",
       "  'feature_281': -0.03177955446557866,\n",
       "  'feature_282': -0.15359184104535314,\n",
       "  'feature_283': -0.23991675426562628,\n",
       "  'feature_284': 0.0394791801356607,\n",
       "  'feature_285': -0.03925242421812274,\n",
       "  'feature_286': -0.14616814855900076,\n",
       "  'feature_287': 0.11641221679747105,\n",
       "  'feature_288': 0.014906326774507761,\n",
       "  'feature_289': 0.14061800928579438,\n",
       "  'feature_290': 0.11871605961480075,\n",
       "  'feature_291': 0.24255363808737862,\n",
       "  'feature_292': -0.0886052077015241,\n",
       "  'feature_293': 0.14208547838239205,\n",
       "  'feature_294': 0.26322611090209747,\n",
       "  'feature_295': 0.16360832854277557,\n",
       "  'feature_296': -0.1731966638730632,\n",
       "  'feature_297': -0.11415745690464973,\n",
       "  'feature_298': 0.12043423826495807,\n",
       "  'feature_299': -0.03265633879022466},\n",
       " 'positive')"
      ]
     },
     "execution_count": 31,
     "metadata": {},
     "output_type": "execute_result"
    }
   ],
   "source": [
    "#Train und Test Set für das selbsttrainierte Model\n",
    "train_set_model = [row_to_tuple(row) for _, row in train_wordvec_df_with_labels.iterrows()]\n",
    "test_set_model = [row_to_tuple(row) for _, row in test_wordvec_df_with_labels.iterrows()]\n",
    "\n",
    "#Train und Test Set für das Google Model\n",
    "train_set_google = [row_to_tuple(row) for _, row in google_train_wordvec_df_with_labels.iterrows()]\n",
    "test_set_google = [row_to_tuple(row) for _, row in google_test_wordvec_df_with_labels.iterrows()]\n",
    "\n",
    "train_set_model[0]"
   ]
  },
  {
   "attachments": {},
   "cell_type": "markdown",
   "metadata": {},
   "source": [
    "### <span style=\"color:red\"> 5.) Nützlichkeit von Lemmatisierung und POS-Tags  \n",
    "\n",
    "Im Folgenden wird an mit Hilfe des Dev Splits analysiert, ob Lemmatisieren und POS-Tagging die Accuracy der Sentiment Analyse verbessern können."
   ]
  },
  {
   "attachments": {},
   "cell_type": "markdown",
   "metadata": {},
   "source": [
    "#### POS-Tagging"
   ]
  },
  {
   "attachments": {},
   "cell_type": "markdown",
   "metadata": {},
   "source": [
    "Zunächst wird POS-Tagging auf die Wörter in den Tweets angewendet. Hierfür wird der standart POS-Tagger `pos_tag()` von nltk verwendet, da das Erstellen eines eigenen POS-Taggers ohne passendes Training- und Testdatenset nicht möglich ist."
   ]
  },
  {
   "cell_type": "code",
   "execution_count": 32,
   "metadata": {},
   "outputs": [
    {
     "data": {
      "text/html": [
       "<div>\n",
       "<style scoped>\n",
       "    .dataframe tbody tr th:only-of-type {\n",
       "        vertical-align: middle;\n",
       "    }\n",
       "\n",
       "    .dataframe tbody tr th {\n",
       "        vertical-align: top;\n",
       "    }\n",
       "\n",
       "    .dataframe thead th {\n",
       "        text-align: right;\n",
       "    }\n",
       "</style>\n",
       "<table border=\"1\" class=\"dataframe\">\n",
       "  <thead>\n",
       "    <tr style=\"text-align: right;\">\n",
       "      <th></th>\n",
       "      <th>ID</th>\n",
       "      <th>Label</th>\n",
       "      <th>Tweet</th>\n",
       "      <th>token_tweets</th>\n",
       "      <th>tagged_tweet</th>\n",
       "    </tr>\n",
       "  </thead>\n",
       "  <tbody>\n",
       "    <tr>\n",
       "      <th>0</th>\n",
       "      <td>264183816548130816</td>\n",
       "      <td>positive</td>\n",
       "      <td>Gas by my house hit $3.39!!!! I’m going to Chapel Hill on Sat. :)</td>\n",
       "      <td>[Gas, house, hit, 3.39, going, Chapel, Hill, Sat, :)]</td>\n",
       "      <td>[(Gas, NNP), (house, NN), (hit, VBD), (3.39, CD), (going, VBG), (Chapel, NNP), (Hill, NNP), (Sat, NNP), (:), NN)]</td>\n",
       "    </tr>\n",
       "    <tr>\n",
       "      <th>1</th>\n",
       "      <td>263405084770172928</td>\n",
       "      <td>negative</td>\n",
       "      <td>Theo Walcott is still shit, watch Rafa and Johnny deal with him on Saturday.</td>\n",
       "      <td>[Theo, Walcott, still, shit, watch, Rafa, Johnny, deal, Saturday]</td>\n",
       "      <td>[(Theo, NNP), (Walcott, NNP), (still, RB), (shit, VBD), (watch, JJ), (Rafa, NNP), (Johnny, NNP), (deal, NN), (Saturday, NNP)]</td>\n",
       "    </tr>\n",
       "    <tr>\n",
       "      <th>2</th>\n",
       "      <td>262163168678248449</td>\n",
       "      <td>negative</td>\n",
       "      <td>its not that I’m a GSP fan, i just hate Nick Diaz. can’t wait for february.</td>\n",
       "      <td>[GSP, fan, hate, Nick, Diaz, wait, february]</td>\n",
       "      <td>[(GSP, NNP), (fan, NN), (hate, NN), (Nick, NNP), (Diaz, NNP), (wait, VBP), (february, JJ)]</td>\n",
       "    </tr>\n",
       "    <tr>\n",
       "      <th>3</th>\n",
       "      <td>264249301910310912</td>\n",
       "      <td>negative</td>\n",
       "      <td>Iranian general says Israel’s Iron Dome can’t deal with their missiles (keep talking like that and we may end up finding out)</td>\n",
       "      <td>[Iranian, general, says, Israel, Iron, Dome, deal, missiles, keep, talking, like, may, end, finding]</td>\n",
       "      <td>[(Iranian, JJ), (general, JJ), (says, VBZ), (Israel, NNP), (Iron, NNP), (Dome, NNP), (deal, NN), (missiles, NNS), (keep, VB), (talking, VBG), (like, IN), (may, MD), (end, VB), (finding, VBG)]</td>\n",
       "    </tr>\n",
       "    <tr>\n",
       "      <th>4</th>\n",
       "      <td>262682041215234048</td>\n",
       "      <td>neutral</td>\n",
       "      <td>Tehran, Mon Amour: Obama Tried to Establish Ties with the Mullahs  via  No Barack Obama - Vote Mitt Romney</td>\n",
       "      <td>[Tehran, Mon, Amour, Obama, Tried, Establish, Ties, Mullahs, via, Barack, Obama, Vote, Mitt, Romney]</td>\n",
       "      <td>[(Tehran, NNP), (Mon, NNP), (Amour, NNP), (Obama, NNP), (Tried, NNP), (Establish, NNP), (Ties, NNP), (Mullahs, NNP), (via, IN), (Barack, NNP), (Obama, NNP), (Vote, NNP), (Mitt, NNP), (Romney, NNP)]</td>\n",
       "    </tr>\n",
       "  </tbody>\n",
       "</table>\n",
       "</div>"
      ],
      "text/plain": [
       "                   ID     Label  \\\n",
       "0  264183816548130816  positive   \n",
       "1  263405084770172928  negative   \n",
       "2  262163168678248449  negative   \n",
       "3  264249301910310912  negative   \n",
       "4  262682041215234048   neutral   \n",
       "\n",
       "                                                                                                                           Tweet  \\\n",
       "0                                                              Gas by my house hit $3.39!!!! I’m going to Chapel Hill on Sat. :)   \n",
       "1                                                   Theo Walcott is still shit, watch Rafa and Johnny deal with him on Saturday.   \n",
       "2                                                    its not that I’m a GSP fan, i just hate Nick Diaz. can’t wait for february.   \n",
       "3  Iranian general says Israel’s Iron Dome can’t deal with their missiles (keep talking like that and we may end up finding out)   \n",
       "4                     Tehran, Mon Amour: Obama Tried to Establish Ties with the Mullahs  via  No Barack Obama - Vote Mitt Romney   \n",
       "\n",
       "                                                                                           token_tweets  \\\n",
       "0                                                 [Gas, house, hit, 3.39, going, Chapel, Hill, Sat, :)]   \n",
       "1                                     [Theo, Walcott, still, shit, watch, Rafa, Johnny, deal, Saturday]   \n",
       "2                                                          [GSP, fan, hate, Nick, Diaz, wait, february]   \n",
       "3  [Iranian, general, says, Israel, Iron, Dome, deal, missiles, keep, talking, like, may, end, finding]   \n",
       "4  [Tehran, Mon, Amour, Obama, Tried, Establish, Ties, Mullahs, via, Barack, Obama, Vote, Mitt, Romney]   \n",
       "\n",
       "                                                                                                                                                                                            tagged_tweet  \n",
       "0                                                                                      [(Gas, NNP), (house, NN), (hit, VBD), (3.39, CD), (going, VBG), (Chapel, NNP), (Hill, NNP), (Sat, NNP), (:), NN)]  \n",
       "1                                                                          [(Theo, NNP), (Walcott, NNP), (still, RB), (shit, VBD), (watch, JJ), (Rafa, NNP), (Johnny, NNP), (deal, NN), (Saturday, NNP)]  \n",
       "2                                                                                                             [(GSP, NNP), (fan, NN), (hate, NN), (Nick, NNP), (Diaz, NNP), (wait, VBP), (february, JJ)]  \n",
       "3        [(Iranian, JJ), (general, JJ), (says, VBZ), (Israel, NNP), (Iron, NNP), (Dome, NNP), (deal, NN), (missiles, NNS), (keep, VB), (talking, VBG), (like, IN), (may, MD), (end, VB), (finding, VBG)]  \n",
       "4  [(Tehran, NNP), (Mon, NNP), (Amour, NNP), (Obama, NNP), (Tried, NNP), (Establish, NNP), (Ties, NNP), (Mullahs, NNP), (via, IN), (Barack, NNP), (Obama, NNP), (Vote, NNP), (Mitt, NNP), (Romney, NNP)]  "
      ]
     },
     "execution_count": 32,
     "metadata": {},
     "output_type": "execute_result"
    }
   ],
   "source": [
    "from nltk import DefaultTagger\n",
    "from nltk import UnigramTagger\n",
    "from nltk import NgramTagger\n",
    "from nltk import pos_tag\n",
    "\n",
    "train_data['tagged_tweet'] = train_data['token_tweets'].apply(lambda x: pos_tag(x))\n",
    "dev_data['tagged_tweet'] = dev_data['token_tweets'].apply(lambda x: pos_tag(x))\n",
    "test_data['tagged_tweet'] = test_data['token_tweets'].apply(lambda x: pos_tag(x))\n",
    "\n",
    "train_data.head(5)"
   ]
  },
  {
   "attachments": {},
   "cell_type": "markdown",
   "metadata": {},
   "source": [
    "#### Lemmatisieren"
   ]
  },
  {
   "attachments": {},
   "cell_type": "markdown",
   "metadata": {},
   "source": [
    "Nun müssen die POS-tagged Tweets aus den Daten Splits lemmatisiert werden. Dazu wird in jedem Split eine neue Spalte `df['lemma_tweet']` angelegt.  \n",
    "\n",
    "Für das Lemmatisieren wird `lemmatize_tag()` verwendet. Die Funktion lemmatisiert mit Hilfe des `WordNetLemmatizer()` von nltk auf Basis des POS-Tags. Dies wird jeweils auf jeden Tweet im Dataframe angewand."
   ]
  },
  {
   "cell_type": "code",
   "execution_count": 33,
   "metadata": {},
   "outputs": [],
   "source": [
    "from nltk.stem import WordNetLemmatizer\n",
    "wnl = WordNetLemmatizer()\n",
    "\n",
    "# Funktion aus Notebook 02, um passend zum POS-Tag zu Lemmatisieren\n",
    "def lemmatize_tag(t_word):\n",
    "        if t_word[1].startswith('V'):\n",
    "            return wnl.lemmatize(t_word[0],pos='v') \n",
    "        elif t_word[1].startswith('J'):\n",
    "            return wnl.lemmatize(t_word[0],pos='a')\n",
    "        elif t_word[1].startswith('R'):\n",
    "            return wnl.lemmatize(t_word[0],pos='r')\n",
    "        else:\n",
    "            return wnl.lemmatize(t_word[0])"
   ]
  },
  {
   "cell_type": "code",
   "execution_count": 34,
   "metadata": {},
   "outputs": [
    {
     "data": {
      "text/html": [
       "<div>\n",
       "<style scoped>\n",
       "    .dataframe tbody tr th:only-of-type {\n",
       "        vertical-align: middle;\n",
       "    }\n",
       "\n",
       "    .dataframe tbody tr th {\n",
       "        vertical-align: top;\n",
       "    }\n",
       "\n",
       "    .dataframe thead th {\n",
       "        text-align: right;\n",
       "    }\n",
       "</style>\n",
       "<table border=\"1\" class=\"dataframe\">\n",
       "  <thead>\n",
       "    <tr style=\"text-align: right;\">\n",
       "      <th></th>\n",
       "      <th>ID</th>\n",
       "      <th>Label</th>\n",
       "      <th>Tweet</th>\n",
       "      <th>token_tweets</th>\n",
       "      <th>tagged_tweet</th>\n",
       "      <th>lemma_tweet</th>\n",
       "    </tr>\n",
       "  </thead>\n",
       "  <tbody>\n",
       "    <tr>\n",
       "      <th>0</th>\n",
       "      <td>264183816548130816</td>\n",
       "      <td>positive</td>\n",
       "      <td>Gas by my house hit $3.39!!!! I’m going to Chapel Hill on Sat. :)</td>\n",
       "      <td>[Gas, house, hit, 3.39, going, Chapel, Hill, Sat, :)]</td>\n",
       "      <td>[(Gas, NNP), (house, NN), (hit, VBD), (3.39, CD), (going, VBG), (Chapel, NNP), (Hill, NNP), (Sat, NNP), (:), NN)]</td>\n",
       "      <td>[Gas, house, hit, 3.39, go, Chapel, Hill, Sat, :)]</td>\n",
       "    </tr>\n",
       "    <tr>\n",
       "      <th>1</th>\n",
       "      <td>263405084770172928</td>\n",
       "      <td>negative</td>\n",
       "      <td>Theo Walcott is still shit, watch Rafa and Johnny deal with him on Saturday.</td>\n",
       "      <td>[Theo, Walcott, still, shit, watch, Rafa, Johnny, deal, Saturday]</td>\n",
       "      <td>[(Theo, NNP), (Walcott, NNP), (still, RB), (shit, VBD), (watch, JJ), (Rafa, NNP), (Johnny, NNP), (deal, NN), (Saturday, NNP)]</td>\n",
       "      <td>[Theo, Walcott, still, shit, watch, Rafa, Johnny, deal, Saturday]</td>\n",
       "    </tr>\n",
       "    <tr>\n",
       "      <th>2</th>\n",
       "      <td>262163168678248449</td>\n",
       "      <td>negative</td>\n",
       "      <td>its not that I’m a GSP fan, i just hate Nick Diaz. can’t wait for february.</td>\n",
       "      <td>[GSP, fan, hate, Nick, Diaz, wait, february]</td>\n",
       "      <td>[(GSP, NNP), (fan, NN), (hate, NN), (Nick, NNP), (Diaz, NNP), (wait, VBP), (february, JJ)]</td>\n",
       "      <td>[GSP, fan, hate, Nick, Diaz, wait, february]</td>\n",
       "    </tr>\n",
       "    <tr>\n",
       "      <th>3</th>\n",
       "      <td>264249301910310912</td>\n",
       "      <td>negative</td>\n",
       "      <td>Iranian general says Israel’s Iron Dome can’t deal with their missiles (keep talking like that and we may end up finding out)</td>\n",
       "      <td>[Iranian, general, says, Israel, Iron, Dome, deal, missiles, keep, talking, like, may, end, finding]</td>\n",
       "      <td>[(Iranian, JJ), (general, JJ), (says, VBZ), (Israel, NNP), (Iron, NNP), (Dome, NNP), (deal, NN), (missiles, NNS), (keep, VB), (talking, VBG), (like, IN), (may, MD), (end, VB), (finding, VBG)]</td>\n",
       "      <td>[Iranian, general, say, Israel, Iron, Dome, deal, missile, keep, talk, like, may, end, find]</td>\n",
       "    </tr>\n",
       "    <tr>\n",
       "      <th>4</th>\n",
       "      <td>262682041215234048</td>\n",
       "      <td>neutral</td>\n",
       "      <td>Tehran, Mon Amour: Obama Tried to Establish Ties with the Mullahs  via  No Barack Obama - Vote Mitt Romney</td>\n",
       "      <td>[Tehran, Mon, Amour, Obama, Tried, Establish, Ties, Mullahs, via, Barack, Obama, Vote, Mitt, Romney]</td>\n",
       "      <td>[(Tehran, NNP), (Mon, NNP), (Amour, NNP), (Obama, NNP), (Tried, NNP), (Establish, NNP), (Ties, NNP), (Mullahs, NNP), (via, IN), (Barack, NNP), (Obama, NNP), (Vote, NNP), (Mitt, NNP), (Romney, NNP)]</td>\n",
       "      <td>[Tehran, Mon, Amour, Obama, Tried, Establish, Ties, Mullahs, via, Barack, Obama, Vote, Mitt, Romney]</td>\n",
       "    </tr>\n",
       "  </tbody>\n",
       "</table>\n",
       "</div>"
      ],
      "text/plain": [
       "                   ID     Label  \\\n",
       "0  264183816548130816  positive   \n",
       "1  263405084770172928  negative   \n",
       "2  262163168678248449  negative   \n",
       "3  264249301910310912  negative   \n",
       "4  262682041215234048   neutral   \n",
       "\n",
       "                                                                                                                           Tweet  \\\n",
       "0                                                              Gas by my house hit $3.39!!!! I’m going to Chapel Hill on Sat. :)   \n",
       "1                                                   Theo Walcott is still shit, watch Rafa and Johnny deal with him on Saturday.   \n",
       "2                                                    its not that I’m a GSP fan, i just hate Nick Diaz. can’t wait for february.   \n",
       "3  Iranian general says Israel’s Iron Dome can’t deal with their missiles (keep talking like that and we may end up finding out)   \n",
       "4                     Tehran, Mon Amour: Obama Tried to Establish Ties with the Mullahs  via  No Barack Obama - Vote Mitt Romney   \n",
       "\n",
       "                                                                                           token_tweets  \\\n",
       "0                                                 [Gas, house, hit, 3.39, going, Chapel, Hill, Sat, :)]   \n",
       "1                                     [Theo, Walcott, still, shit, watch, Rafa, Johnny, deal, Saturday]   \n",
       "2                                                          [GSP, fan, hate, Nick, Diaz, wait, february]   \n",
       "3  [Iranian, general, says, Israel, Iron, Dome, deal, missiles, keep, talking, like, may, end, finding]   \n",
       "4  [Tehran, Mon, Amour, Obama, Tried, Establish, Ties, Mullahs, via, Barack, Obama, Vote, Mitt, Romney]   \n",
       "\n",
       "                                                                                                                                                                                            tagged_tweet  \\\n",
       "0                                                                                      [(Gas, NNP), (house, NN), (hit, VBD), (3.39, CD), (going, VBG), (Chapel, NNP), (Hill, NNP), (Sat, NNP), (:), NN)]   \n",
       "1                                                                          [(Theo, NNP), (Walcott, NNP), (still, RB), (shit, VBD), (watch, JJ), (Rafa, NNP), (Johnny, NNP), (deal, NN), (Saturday, NNP)]   \n",
       "2                                                                                                             [(GSP, NNP), (fan, NN), (hate, NN), (Nick, NNP), (Diaz, NNP), (wait, VBP), (february, JJ)]   \n",
       "3        [(Iranian, JJ), (general, JJ), (says, VBZ), (Israel, NNP), (Iron, NNP), (Dome, NNP), (deal, NN), (missiles, NNS), (keep, VB), (talking, VBG), (like, IN), (may, MD), (end, VB), (finding, VBG)]   \n",
       "4  [(Tehran, NNP), (Mon, NNP), (Amour, NNP), (Obama, NNP), (Tried, NNP), (Establish, NNP), (Ties, NNP), (Mullahs, NNP), (via, IN), (Barack, NNP), (Obama, NNP), (Vote, NNP), (Mitt, NNP), (Romney, NNP)]   \n",
       "\n",
       "                                                                                            lemma_tweet  \n",
       "0                                                    [Gas, house, hit, 3.39, go, Chapel, Hill, Sat, :)]  \n",
       "1                                     [Theo, Walcott, still, shit, watch, Rafa, Johnny, deal, Saturday]  \n",
       "2                                                          [GSP, fan, hate, Nick, Diaz, wait, february]  \n",
       "3          [Iranian, general, say, Israel, Iron, Dome, deal, missile, keep, talk, like, may, end, find]  \n",
       "4  [Tehran, Mon, Amour, Obama, Tried, Establish, Ties, Mullahs, via, Barack, Obama, Vote, Mitt, Romney]  "
      ]
     },
     "execution_count": 34,
     "metadata": {},
     "output_type": "execute_result"
    }
   ],
   "source": [
    "#Lemmatisieren des Train Splits\n",
    "train_data['lemma_tweet'] = train_data['tagged_tweet'].apply(lambda x: [lemmatize_tag(word) for word in x])\n",
    "#Lemmatisieren des Dev Splits\n",
    "dev_data['lemma_tweet'] = dev_data['tagged_tweet'].apply(lambda x: [lemmatize_tag(word) for word in x])\n",
    "#Lemmatisieren des Test Splits\n",
    "test_data['lemma_tweet'] = test_data['tagged_tweet'].apply(lambda x: [lemmatize_tag(word) for word in x])\n",
    "\n",
    "train_data.head(5)"
   ]
  },
  {
   "attachments": {},
   "cell_type": "markdown",
   "metadata": {},
   "source": [
    "#### Evaluation mit dem Dev Split"
   ]
  },
  {
   "attachments": {},
   "cell_type": "markdown",
   "metadata": {},
   "source": [
    "Nun wird ein Dev Set, analog zu den Train und Test Sets aus der vorherigen Aufgabe erstellt. Jeweils für das eigene Model und das Google Model. Dafür muss zuerst wieder ein Dataframe mit `w2v_extract_featrues()` angelegt werden mit den Wortvektoren aus Basis der tokenisierten Tweets in `dev_data['token_tweets']`und Labeln aus `dev_data['Label']`. Mit dem Dataframe wird daraufhin ein Dev Set erstellt, welches Tuple aus Wortvektoren und Labeln enthält."
   ]
  },
  {
   "cell_type": "code",
   "execution_count": 35,
   "metadata": {},
   "outputs": [
    {
     "data": {
      "text/plain": [
       "({'feature_0': -0.19585133406023184,\n",
       "  'feature_1': 0.31437045708298683,\n",
       "  'feature_2': 0.06921907372210019,\n",
       "  'feature_3': 0.03986665280535817,\n",
       "  'feature_4': -0.051410057892402015,\n",
       "  'feature_5': -0.15100220994402966,\n",
       "  'feature_6': 0.17410417487068722,\n",
       "  'feature_7': 0.23182298832883438,\n",
       "  'feature_8': 0.14952454211500785,\n",
       "  'feature_9': -0.1266503072110936,\n",
       "  'feature_10': 0.05633725288013617,\n",
       "  'feature_11': -0.1518423817663764,\n",
       "  'feature_12': 0.12987005318670222,\n",
       "  'feature_13': 0.007161446271008269,\n",
       "  'feature_14': -0.21492364288618168,\n",
       "  'feature_15': -0.07721232628682628,\n",
       "  'feature_16': 0.031872233375906944,\n",
       "  'feature_17': 0.016053561800314736,\n",
       "  'feature_18': 0.049172980012372136,\n",
       "  'feature_19': -0.13378767545024553,\n",
       "  'feature_20': -0.19687222937742868,\n",
       "  'feature_21': -0.14743939631929,\n",
       "  'feature_22': 0.07231750804930925,\n",
       "  'feature_23': -0.18285979268451533,\n",
       "  'feature_24': 0.13647809283186993,\n",
       "  'feature_25': 0.09529446174080174,\n",
       "  'feature_26': -0.27044234114388627,\n",
       "  'feature_27': 0.08789005549624562,\n",
       "  'feature_28': -0.12107046932214871,\n",
       "  'feature_29': -0.2358258521029105,\n",
       "  'feature_30': -0.1006683351782461,\n",
       "  'feature_31': -0.16425296841771342,\n",
       "  'feature_32': -0.04231399608155092,\n",
       "  'feature_33': 0.20504676434211433,\n",
       "  'feature_34': 0.04694236572443818,\n",
       "  'feature_35': 0.21172871623033038,\n",
       "  'feature_36': 0.07772278886598845,\n",
       "  'feature_37': -0.3257240193585555,\n",
       "  'feature_38': 0.0031319808525343737,\n",
       "  'feature_39': -0.08739990089088678,\n",
       "  'feature_40': -0.002397476569361364,\n",
       "  'feature_41': 0.018512846591571968,\n",
       "  'feature_42': -0.011240494602437442,\n",
       "  'feature_43': -0.16572856592635313,\n",
       "  'feature_44': 0.1552341217175126,\n",
       "  'feature_45': -0.017102898408969242,\n",
       "  'feature_46': -0.044894779877116285,\n",
       "  'feature_47': 0.06246358008744816,\n",
       "  'feature_48': 0.1018303275341168,\n",
       "  'feature_49': 0.1417594637411336,\n",
       "  'feature_50': -0.06998631119495258,\n",
       "  'feature_51': 0.08744027318122487,\n",
       "  'feature_52': -0.07009715926930464,\n",
       "  'feature_53': 0.19168483993659416,\n",
       "  'feature_54': -0.055869460105895996,\n",
       "  'feature_55': -0.00011036793390909831,\n",
       "  'feature_56': 0.15445776254152102,\n",
       "  'feature_57': 0.10184281226247549,\n",
       "  'feature_58': 0.15618971114357313,\n",
       "  'feature_59': 0.011455267088119095,\n",
       "  'feature_60': -0.1160683568935686,\n",
       "  'feature_61': -0.15004071469108263,\n",
       "  'feature_62': -0.025899810483679175,\n",
       "  'feature_63': -0.1573578192231556,\n",
       "  'feature_64': 0.06045751079849045,\n",
       "  'feature_65': 0.13240902707912028,\n",
       "  'feature_66': -0.14928771213938793,\n",
       "  'feature_67': 0.18948408790553609,\n",
       "  'feature_68': -0.19607972043255964,\n",
       "  'feature_69': 0.09605824639826703,\n",
       "  'feature_70': -0.02406511145333449,\n",
       "  'feature_71': 0.023726344380217295,\n",
       "  'feature_72': 0.07627172923336427,\n",
       "  'feature_73': -0.05489887483417988,\n",
       "  'feature_74': -0.10928833001526073,\n",
       "  'feature_75': 0.17905319668352604,\n",
       "  'feature_76': -0.1620095705923935,\n",
       "  'feature_77': -0.13661070292194685,\n",
       "  'feature_78': -0.35895231862862903,\n",
       "  'feature_79': 0.11285514074067275,\n",
       "  'feature_80': -0.16135009409238896,\n",
       "  'feature_81': -0.1531563577397416,\n",
       "  'feature_82': 0.12210726774355862,\n",
       "  'feature_83': 0.09550393256358802,\n",
       "  'feature_84': -0.04609225073363632,\n",
       "  'feature_85': 0.05101492652162657,\n",
       "  'feature_86': -0.009506630711257458,\n",
       "  'feature_87': 0.036337065820892654,\n",
       "  'feature_88': 0.09964912679667275,\n",
       "  'feature_89': 0.11314538183311622,\n",
       "  'feature_90': 0.012630175740923733,\n",
       "  'feature_91': -0.22281461240102848,\n",
       "  'feature_92': 0.23631313724520928,\n",
       "  'feature_93': -0.06677703838795424,\n",
       "  'feature_94': 0.026403810867729288,\n",
       "  'feature_95': 0.07356038173505415,\n",
       "  'feature_96': 0.33467154453198117,\n",
       "  'feature_97': -0.02757230152686437,\n",
       "  'feature_98': -0.023727211247508723,\n",
       "  'feature_99': 0.006655940553173423,\n",
       "  'feature_100': 0.06147654812472562,\n",
       "  'feature_101': 0.09237488475628197,\n",
       "  'feature_102': 0.11744656444837649,\n",
       "  'feature_103': 0.03771610752058526,\n",
       "  'feature_104': 0.18216491040463248,\n",
       "  'feature_105': 0.06632364772182579,\n",
       "  'feature_106': -0.14973661067779176,\n",
       "  'feature_107': 0.13736639027289735,\n",
       "  'feature_108': -0.05770933938523134,\n",
       "  'feature_109': -0.0709082696121186,\n",
       "  'feature_110': -0.29186224192380905,\n",
       "  'feature_111': -0.02900790502705301,\n",
       "  'feature_112': -0.17451964815457663,\n",
       "  'feature_113': 0.1934903011036416,\n",
       "  'feature_114': 0.12000952373879652,\n",
       "  'feature_115': 0.18629338468114534,\n",
       "  'feature_116': -0.18796044262126088,\n",
       "  'feature_117': 0.01531045550170044,\n",
       "  'feature_118': 0.050532399657337614,\n",
       "  'feature_119': -0.19139774267872176,\n",
       "  'feature_120': 0.03416507873528948,\n",
       "  'feature_121': -0.005355977957757811,\n",
       "  'feature_122': 0.26528302176545066,\n",
       "  'feature_123': -0.004861697709808747,\n",
       "  'feature_124': -0.037842685667177044,\n",
       "  'feature_125': 0.07413200102746487,\n",
       "  'feature_126': -0.029361771264423926,\n",
       "  'feature_127': -0.0687395644102556,\n",
       "  'feature_128': -0.11118685252343614,\n",
       "  'feature_129': 0.0365504240617156,\n",
       "  'feature_130': 0.11261000608404477,\n",
       "  'feature_131': 0.00851820781826973,\n",
       "  'feature_132': -0.06158094364218414,\n",
       "  'feature_133': -0.25373118991653126,\n",
       "  'feature_134': 0.023908409639261663,\n",
       "  'feature_135': 0.10966778825968504,\n",
       "  'feature_136': 0.14119774956877032,\n",
       "  'feature_137': 0.022548002656549215,\n",
       "  'feature_138': -0.0990384394923846,\n",
       "  'feature_139': -0.22738015465438366,\n",
       "  'feature_140': 0.17990413773804903,\n",
       "  'feature_141': -0.22928828125198683,\n",
       "  'feature_142': -0.18261994161487868,\n",
       "  'feature_143': -0.008803638008733591,\n",
       "  'feature_144': 0.02396821106473605,\n",
       "  'feature_145': -0.055001018568873405,\n",
       "  'feature_146': -0.2536182242135207,\n",
       "  'feature_147': -0.0716075502956907,\n",
       "  'feature_148': -0.0006311449154357737,\n",
       "  'feature_149': -0.04754702762390176,\n",
       "  'feature_150': -0.07576421222377878,\n",
       "  'feature_151': -0.3592215497046709,\n",
       "  'feature_152': 0.09287817613221705,\n",
       "  'feature_153': -0.19888676578799883,\n",
       "  'feature_154': 0.0012869991284484665,\n",
       "  'feature_155': 0.13553531747311354,\n",
       "  'feature_156': -0.2003785657385985,\n",
       "  'feature_157': -0.16515322402119637,\n",
       "  'feature_158': 0.05900922239137193,\n",
       "  'feature_159': 0.050224583285550274,\n",
       "  'feature_160': 0.005684367468347773,\n",
       "  'feature_161': 0.09498398626844089,\n",
       "  'feature_162': -0.11886260157916695,\n",
       "  'feature_163': -0.03168589703273028,\n",
       "  'feature_164': -0.08724534183663006,\n",
       "  'feature_165': 0.02731742489171059,\n",
       "  'feature_166': -0.021872536512091756,\n",
       "  'feature_167': 0.10033456911332905,\n",
       "  'feature_168': 0.08687881156341366,\n",
       "  'feature_169': 0.31371317741771537,\n",
       "  'feature_170': -0.04617322787332038,\n",
       "  'feature_171': -0.01806913479231298,\n",
       "  'feature_172': -0.010392625719153633,\n",
       "  'feature_173': 0.011107972667862972,\n",
       "  'feature_174': 0.07957622835723062,\n",
       "  'feature_175': 0.0003253401567538579,\n",
       "  'feature_176': 0.13251122552901506,\n",
       "  'feature_177': -0.03506563697010279,\n",
       "  'feature_178': 0.11527164730553825,\n",
       "  'feature_179': 0.006509530862482886,\n",
       "  'feature_180': -0.09377457853406668,\n",
       "  'feature_181': -0.10049328134239961,\n",
       "  'feature_182': -0.16004959462831417,\n",
       "  'feature_183': -0.051494388841092587,\n",
       "  'feature_184': -0.12505952077723728,\n",
       "  'feature_185': -0.05287992952313895,\n",
       "  'feature_186': 0.12391845794627443,\n",
       "  'feature_187': 0.16316994124402603,\n",
       "  'feature_188': 0.010613467078655958,\n",
       "  'feature_189': -0.18060806820479533,\n",
       "  'feature_190': 0.16004938771948218,\n",
       "  'feature_191': -0.04453083372209221,\n",
       "  'feature_192': 0.04374804258501778,\n",
       "  'feature_193': -0.022406134676809113,\n",
       "  'feature_194': 0.06725114211440086,\n",
       "  'feature_195': -0.09371385304257274,\n",
       "  'feature_196': -0.09074296099909891,\n",
       "  'feature_197': -0.06685634112606446,\n",
       "  'feature_198': 0.09677859302610159,\n",
       "  'feature_199': 0.03705206148636838,\n",
       "  'feature_200': -0.10976454449094793,\n",
       "  'feature_201': 0.2190193321245412,\n",
       "  'feature_202': -0.08191834549264361,\n",
       "  'feature_203': -0.09614021463009219,\n",
       "  'feature_204': 0.18801834744711718,\n",
       "  'feature_205': -0.06123703465952227,\n",
       "  'feature_206': 0.050086992336825155,\n",
       "  'feature_207': 0.1495200269467508,\n",
       "  'feature_208': 0.07749614633697395,\n",
       "  'feature_209': -0.20508294304211935,\n",
       "  'feature_210': -0.008094076532870531,\n",
       "  'feature_211': 0.14545984046223262,\n",
       "  'feature_212': 0.043411804867597915,\n",
       "  'feature_213': -0.009556260736038288,\n",
       "  'feature_214': 0.2045709720502297,\n",
       "  'feature_215': -0.1466408148407936,\n",
       "  'feature_216': -0.01932716912900408,\n",
       "  'feature_217': -0.09146696856866281,\n",
       "  'feature_218': -0.23416671281059584,\n",
       "  'feature_219': -0.301929062542816,\n",
       "  'feature_220': 0.07213951204903424,\n",
       "  'feature_221': -0.10570374658952157,\n",
       "  'feature_222': -0.0985556055966299,\n",
       "  'feature_223': 0.001945800264365971,\n",
       "  'feature_224': 0.03122061291166271,\n",
       "  'feature_225': -0.07231275551021099,\n",
       "  'feature_226': 0.07807920240641882,\n",
       "  'feature_227': -0.11688235976422827,\n",
       "  'feature_228': 0.03686630985854814,\n",
       "  'feature_229': 0.11043142209139963,\n",
       "  'feature_230': 0.06770880163336794,\n",
       "  'feature_231': -0.09481747696797053,\n",
       "  'feature_232': -0.20182798119882742,\n",
       "  'feature_233': -0.08496986919393142,\n",
       "  'feature_234': -0.12273300656427939,\n",
       "  'feature_235': 0.0461254168379431,\n",
       "  'feature_236': -0.06249171278129021,\n",
       "  'feature_237': 0.0708571517219146,\n",
       "  'feature_238': 0.14346493776732436,\n",
       "  'feature_239': -0.09222966339439154,\n",
       "  'feature_240': 0.15606376187254986,\n",
       "  'feature_241': -0.20517396181821823,\n",
       "  'feature_242': 0.14443780780614665,\n",
       "  'feature_243': 0.030832467678313453,\n",
       "  'feature_244': -0.02298243825013439,\n",
       "  'feature_245': -0.18569866381585598,\n",
       "  'feature_246': -0.021918000633983564,\n",
       "  'feature_247': -0.04835062314911435,\n",
       "  'feature_248': -0.09674837059962253,\n",
       "  'feature_249': 0.1988416202366352,\n",
       "  'feature_250': 0.08651979554754992,\n",
       "  'feature_251': 0.10651848833852758,\n",
       "  'feature_252': 0.09939123053724568,\n",
       "  'feature_253': 0.10540802452790861,\n",
       "  'feature_254': 0.0021925993690577648,\n",
       "  'feature_255': 0.03488604007240307,\n",
       "  'feature_256': 0.23130235448479652,\n",
       "  'feature_257': -0.034779972940062485,\n",
       "  'feature_258': -0.23686564589540163,\n",
       "  'feature_259': -0.14674227048332492,\n",
       "  'feature_260': 0.013631797085205713,\n",
       "  'feature_261': -0.14340753632131964,\n",
       "  'feature_262': 0.09841827080041791,\n",
       "  'feature_263': -0.15431659435853362,\n",
       "  'feature_264': -0.17057328360776106,\n",
       "  'feature_265': 0.1360318900939698,\n",
       "  'feature_266': 0.22236241617550453,\n",
       "  'feature_267': 0.04931309989963969,\n",
       "  'feature_268': -0.01250529638491571,\n",
       "  'feature_269': 0.14984910003840923,\n",
       "  'feature_270': 0.1533149921645721,\n",
       "  'feature_271': -0.07561534917961883,\n",
       "  'feature_272': 0.2127099618082866,\n",
       "  'feature_273': -0.07587872569759686,\n",
       "  'feature_274': 0.07901563867926598,\n",
       "  'feature_275': 0.1168237707267205,\n",
       "  'feature_276': -0.026470137449602287,\n",
       "  'feature_277': -0.003290481399744749,\n",
       "  'feature_278': -0.1697590183466673,\n",
       "  'feature_279': 0.10139300402564307,\n",
       "  'feature_280': 0.05566035723313689,\n",
       "  'feature_281': 0.04266328422818333,\n",
       "  'feature_282': 0.038437198750519506,\n",
       "  'feature_283': 0.06380268836316343,\n",
       "  'feature_284': -0.04048536314318577,\n",
       "  'feature_285': 0.029525627217177924,\n",
       "  'feature_286': -0.331675386056304,\n",
       "  'feature_287': 0.2076427989328901,\n",
       "  'feature_288': 0.06972465532210965,\n",
       "  'feature_289': 0.21943293822308382,\n",
       "  'feature_290': 0.2594234176600973,\n",
       "  'feature_291': 0.08068465488031507,\n",
       "  'feature_292': -0.007909327687229961,\n",
       "  'feature_293': -0.01610986717666189,\n",
       "  'feature_294': 0.3259221501648426,\n",
       "  'feature_295': 0.21578122054537138,\n",
       "  'feature_296': -0.08542618619200464,\n",
       "  'feature_297': 0.1214681292573611,\n",
       "  'feature_298': 0.09593067440437153,\n",
       "  'feature_299': 0.020117038395255804},\n",
       " 'neutral')"
      ]
     },
     "execution_count": 35,
     "metadata": {},
     "output_type": "execute_result"
    }
   ],
   "source": [
    "#Dev Dataframe auf Basis des selbst trainierten Models\n",
    "model_dev_wordvec_df_with_labels = w2v_extract_features(dev_data, VECTOR_SIZE, is_google=False)\n",
    "#Dev Dataframe auf Basis des Google Lexikons\n",
    "google_dev_wordvec_df_with_labels = w2v_extract_features(dev_data, VECTOR_SIZE, is_google=True)\n",
    "\n",
    "#Dev Set für das selbsttrainierte Model\n",
    "dev_set_model = [row_to_tuple(row) for _, row in model_dev_wordvec_df_with_labels.iterrows()]\n",
    "#Dev Set für das Google Model\n",
    "dev_set_google = [row_to_tuple(row) for _, row in google_dev_wordvec_df_with_labels.iterrows()]\n",
    "\n",
    "dev_set_model[0]"
   ]
  },
  {
   "attachments": {},
   "cell_type": "markdown",
   "metadata": {},
   "source": [
    "Zuerst werden die beiden Sets erneut mit dem **Naive-Bayes-Klassifizierer** evaluiert."
   ]
  },
  {
   "cell_type": "code",
   "execution_count": 36,
   "metadata": {},
   "outputs": [
    {
     "name": "stdout",
     "output_type": "stream",
     "text": [
      "Accuracy when using the self trained model is :  0.21039903264812576\n"
     ]
    }
   ],
   "source": [
    "classifier_model = NaiveBayesClassifier.train(train_set_model)\n",
    "\n",
    "accuracy_bayes_model = nltk.classify.accuracy(classifier_model, dev_set_model)\n",
    "print(f\"Accuracy when using the self trained model is : \",accuracy_bayes_model)"
   ]
  },
  {
   "cell_type": "code",
   "execution_count": 37,
   "metadata": {},
   "outputs": [
    {
     "name": "stdout",
     "output_type": "stream",
     "text": [
      "Accuracy when using the Google model is :  0.20556227327690446\n"
     ]
    }
   ],
   "source": [
    "classifier_google = NaiveBayesClassifier.train(train_set_google)\n",
    "\n",
    "accuracy_bayes_google = nltk.classify.accuracy(classifier_model, dev_set_google)\n",
    "print(f\"Accuracy when using the Google model is : \",accuracy_bayes_google)"
   ]
  },
  {
   "attachments": {},
   "cell_type": "markdown",
   "metadata": {},
   "source": [
    "Es wird deutlich, dass die Accuracy mit Naive-Bayes noch kleiner als die des Baseline Models ist. Daher werden zwei weitere Klassifizierer, **Support Vector Classifier** und **Decision Tree** verwendet."
   ]
  },
  {
   "cell_type": "code",
   "execution_count": 38,
   "metadata": {},
   "outputs": [
    {
     "name": "stdout",
     "output_type": "stream",
     "text": [
      "Accuracy when using the self trained model and SVC is: 0.5991535671100363\n",
      "Accuracy when using the self trained model and Devision Tree is: 0.21039903264812576\n"
     ]
    }
   ],
   "source": [
    "from nltk import DecisionTreeClassifier\n",
    "from sklearn.svm import LinearSVC\n",
    "from nltk.classify.scikitlearn import SklearnClassifier\n",
    "\n",
    "\n",
    "classifier_model2  = SklearnClassifier(LinearSVC()).train(train_set_model)\n",
    "classifier_model3 = DecisionTreeClassifier.train(train_set_model)\n",
    "\n",
    "accuracy_model2 = nltk.classify.accuracy(classifier_model2, dev_set_model)\n",
    "accuracy_model3 = nltk.classify.accuracy(classifier_model3, dev_set_model)\n",
    "\n",
    "print(f\"Accuracy when using the self trained model and SVC is: {accuracy_model2}\")\n",
    "print(f\"Accuracy when using the self trained model and Devision Tree is: {accuracy_model3}\")"
   ]
  },
  {
   "cell_type": "code",
   "execution_count": 39,
   "metadata": {},
   "outputs": [
    {
     "name": "stdout",
     "output_type": "stream",
     "text": [
      "Accuracy when using the Google model and SVC is: 0.6293833131801693\n",
      "Accuracy when using the Google model and Decision Tree is: 0.21463119709794437\n"
     ]
    }
   ],
   "source": [
    "classifier_google2  = SklearnClassifier(LinearSVC()).train(train_set_google)\n",
    "classifier_google3 = DecisionTreeClassifier.train(train_set_google)\n",
    "\n",
    "accuracy_google2 = nltk.classify.accuracy(classifier_google2, dev_set_google)\n",
    "accuracy_google3 = nltk.classify.accuracy(classifier_google3, dev_set_google)\n",
    "\n",
    "print(f\"Accuracy when using the Google model and SVC is: {accuracy_google2}\")\n",
    "print(f\"Accuracy when using the Google model and Decision Tree is: {accuracy_google3}\")"
   ]
  },
  {
   "attachments": {},
   "cell_type": "markdown",
   "metadata": {},
   "source": [
    "Die Ergebnisse zeigen, dass SVC das **beste Ergebnis** mit 60 % und 63 % liefert. "
   ]
  },
  {
   "attachments": {},
   "cell_type": "markdown",
   "metadata": {},
   "source": [
    "#### Vergleich der Ergebnisse mit POS-Tagging und Lemmatisieren"
   ]
  },
  {
   "attachments": {},
   "cell_type": "markdown",
   "metadata": {},
   "source": [
    "Zusäztlich wird eine neue Funktion `w2v_extract_features2()` benutzt um ein Dataframe mit Wordvektoren auf Basis der lemmatisierten Tweets in `data['lemma_tweet']` zu erstellen und anschließend ein Train und Dev Set erstellt."
   ]
  },
  {
   "cell_type": "code",
   "execution_count": 40,
   "metadata": {},
   "outputs": [],
   "source": [
    "def w2v_extract_features2(data, length, is_google):\n",
    "    \n",
    "    #Initalisieren der Wordvektor-Matrix\n",
    "    wordvec_arrays = np.zeros((len(data['lemma_tweet']), length))\n",
    "\n",
    "    #Matrix wird mit Wordvektoren gefüllt\n",
    "    for i in range(len(data['lemma_tweet'])):\n",
    "\n",
    "        if is_google:\n",
    "            #Wortvektoren auf Basis des Google Models\n",
    "            wordvec_arrays[i,:] = google_word_vector(data['lemma_tweet'][i], length)\n",
    "\n",
    "        else:\n",
    "            #Wortvektoren auf basis des selbst trainierten Models\n",
    "            wordvec_arrays[i,:] = word_vector(data['lemma_tweet'][i], length)\n",
    "\n",
    "    #Erstellen des Dataframes\n",
    "    wordvec_df = pd.DataFrame(wordvec_arrays)\n",
    "\n",
    "    #Konkatinieren der Label\n",
    "    wordvec_df_with_labels = pd.concat([wordvec_df, data['Label']], axis=1)\n",
    "    return wordvec_df_with_labels"
   ]
  },
  {
   "cell_type": "code",
   "execution_count": 41,
   "metadata": {},
   "outputs": [],
   "source": [
    "#Train und Dev Dataframe auf Basis des selbst trainierten Models\n",
    "model_train_wordvec_df_with_labels2 = w2v_extract_features2(train_data, VECTOR_SIZE, is_google=False)\n",
    "model_dev_wordvec_df_with_labels = w2v_extract_features2(dev_data, VECTOR_SIZE, is_google=False)\n",
    "\n",
    "#Train und Dev Dataframe auf Basis des Google Lexikons\n",
    "google_train_wordvec_df_with_labels2 = w2v_extract_features2(train_data, VECTOR_SIZE, is_google=True)\n",
    "google_dev_wordvec_df_with_labels = w2v_extract_features2(dev_data, VECTOR_SIZE, is_google=True)\n",
    "\n",
    "#Train und Dev Set für das selbsttrainierte Model\n",
    "train_set_model2 = [row_to_tuple(row) for _, row in model_train_wordvec_df_with_labels2.iterrows()]\n",
    "dev_set_model2 = [row_to_tuple(row) for _, row in model_dev_wordvec_df_with_labels.iterrows()]\n",
    "\n",
    "#Train und Dev Set für das Google Model\n",
    "train_set_google2 = [row_to_tuple(row) for _, row in google_train_wordvec_df_with_labels2.iterrows()]\n",
    "dev_set_google2 = [row_to_tuple(row) for _, row in google_dev_wordvec_df_with_labels.iterrows()]\n"
   ]
  },
  {
   "attachments": {},
   "cell_type": "markdown",
   "metadata": {},
   "source": [
    "Die neuen Train und Dev Sets werden anschließend wieder mit SVC evaluiert:"
   ]
  },
  {
   "cell_type": "code",
   "execution_count": 42,
   "metadata": {},
   "outputs": [
    {
     "name": "stdout",
     "output_type": "stream",
     "text": [
      "Accuracy when using the self trained model and SVC is: 0.6009673518742442\n",
      "Accuracy when using the Google model and SVC is: 0.6227327690447401\n"
     ]
    }
   ],
   "source": [
    "classifier_model  = SklearnClassifier(LinearSVC()).train(train_set_model2)\n",
    "classifier_google2  = SklearnClassifier(LinearSVC()).train(train_set_google2)\n",
    "\n",
    "accuracy_model = nltk.classify.accuracy(classifier_model, dev_set_model2)\n",
    "accuracy_google = nltk.classify.accuracy(classifier_google2, dev_set_google2)\n",
    "\n",
    "\n",
    "print(f\"Accuracy when using the self trained model and SVC is: {accuracy_model}\")\n",
    "print(f\"Accuracy when using the Google model and SVC is: {accuracy_google}\")"
   ]
  },
  {
   "attachments": {},
   "cell_type": "markdown",
   "metadata": {},
   "source": [
    "Es scheint, dass im Fall des aktuellen Models POS-Tagging und Lemmatisieren der Tweets zu keiner Verbesserung der Accuracy führt. Dies wird im Folgenden noch an Hand des Test Splits überprüft."
   ]
  },
  {
   "attachments": {},
   "cell_type": "markdown",
   "metadata": {},
   "source": [
    "### <span style=\"color:red\"> 6.) Evaluation  \n",
    "Im Folgenden werden die in [Aufgabe 4](#4-verbessertes-sentiment-analysis-verfahren4.) erstellten Modelle an Hand von **SVC**, was in [Aufgabe 5](#5-nützlichkeit-von-lemmatisierung-und-pos-tags) am besten performt hat, mit dem Test Split evaluiert."
   ]
  },
  {
   "attachments": {},
   "cell_type": "markdown",
   "metadata": {},
   "source": [
    "Wie in Aufgabe 5.) werden Test Sets auf Basis der lemmatisierten Tweets des Test Splits erstellt."
   ]
  },
  {
   "cell_type": "code",
   "execution_count": 43,
   "metadata": {},
   "outputs": [],
   "source": [
    "model_test_wordvec_df_with_labels2 = w2v_extract_features2(test_data, VECTOR_SIZE, is_google=False)\n",
    "google_test_wordvec_df_with_labels2 = w2v_extract_features2(test_data, VECTOR_SIZE, is_google=True)\n",
    "\n",
    "test_set_model2 = [row_to_tuple(row) for _, row in model_test_wordvec_df_with_labels2.iterrows()]\n",
    "test_set_google2 = [row_to_tuple(row) for _, row in google_test_wordvec_df_with_labels2.iterrows()]\n"
   ]
  },
  {
   "attachments": {},
   "cell_type": "markdown",
   "metadata": {},
   "source": [
    "Nun wird an Hand des Test Split analysiert, ob das POS-Tagging und Lemmatisieren bessere Ergebnisse im selbst trainierten Model liefern\n"
   ]
  },
  {
   "cell_type": "code",
   "execution_count": 44,
   "metadata": {},
   "outputs": [
    {
     "name": "stdout",
     "output_type": "stream",
     "text": [
      "Accuracy when using the self trained model is: 0.6053002537355512\n",
      "Accuracy when using the self trained model with POS and Lemmata is: 0.6143219622215957\n"
     ]
    }
   ],
   "source": [
    "classifier_model  = SklearnClassifier(LinearSVC()).train(train_set_model)\n",
    "classifier_model_with_lemma = SklearnClassifier(LinearSVC()).train(train_set_model2)\n",
    "\n",
    "accuracy_model = nltk.classify.accuracy(classifier_model, test_set_model)\n",
    "accuracy_model_lemma= nltk.classify.accuracy(classifier_model_with_lemma, test_set_model2)\n",
    "\n",
    "print(f\"Accuracy when using the self trained model is: {accuracy_model}\")\n",
    "print(f\"Accuracy when using the self trained model with POS and Lemmata is: {accuracy_model_lemma}\")"
   ]
  },
  {
   "attachments": {},
   "cell_type": "markdown",
   "metadata": {},
   "source": [
    "Selbiges für das Model auf Basis des Google Lexikons:"
   ]
  },
  {
   "cell_type": "code",
   "execution_count": 45,
   "metadata": {},
   "outputs": [
    {
     "name": "stdout",
     "output_type": "stream",
     "text": [
      "Accuracy when using the Google model is: 0.6560473639695518\n",
      "Accuracy when using the Google model with POS and Lemmata is: 0.6537919368480406\n"
     ]
    }
   ],
   "source": [
    "classifier_google  = SklearnClassifier(LinearSVC()).train(train_set_google)\n",
    "classifier_google_with_lemma = SklearnClassifier(LinearSVC()).train(train_set_google2)\n",
    "\n",
    "accuracy_google = nltk.classify.accuracy(classifier_google, test_set_google)\n",
    "accuracy_google_lemma= nltk.classify.accuracy(classifier_google_with_lemma, test_set_google2)\n",
    "\n",
    "print(f\"Accuracy when using the Google model is: {accuracy_google}\")\n",
    "print(f\"Accuracy when using the Google model with POS and Lemmata is: {accuracy_google_lemma}\")\n"
   ]
  },
  {
   "attachments": {},
   "cell_type": "markdown",
   "metadata": {},
   "source": [
    "Interessanterweise, führt das POS-Tagging und Lemmatisiern im Fall des selbsttrainierten Models hier zu einer Verbesserung von ca. 0.7 %. Das Google Model performt jedoch insgesamt immer noch etwa 4 % besser."
   ]
  },
  {
   "attachments": {},
   "cell_type": "markdown",
   "metadata": {},
   "source": [
    "### <span style=\"color:red\"> 7.) Diskussion der Ergebnisse  \n",
    "\n",
    "Im Folgenden werden die Ergebnisse der verschiedenen Modelle visualisiert und kurz diskutiert."
   ]
  },
  {
   "attachments": {},
   "cell_type": "markdown",
   "metadata": {},
   "source": [
    "#### Ergebnisse\n"
   ]
  },
  {
   "cell_type": "code",
   "execution_count": 47,
   "metadata": {},
   "outputs": [
    {
     "data": {
      "image/png": "[encoded data removed]",
      "text/plain": [
       "<Figure size 640x480 with 1 Axes>"
      ]
     },
     "metadata": {},
     "output_type": "display_data"
    }
   ],
   "source": [
    "accs = accuracies_baseline+ [accuracy_model,accuracy_model_lemma ,accuracy_google ,accuracy_google_lemma]\n",
    "len(accs)\n",
    "\n",
    "\n",
    "model_names = [\"Baseline 50\", \"Baseline 100\", \"Baseline 250\", \"Baseline 500\", \"self_trained w2v\", \"self_trained w2v lemma\", \"google w2v\", \"google w2v lemma\" ]\n",
    "\n",
    "plt.bar(model_names, accs, color=\"royalblue\")\n",
    "plt.xticks(rotation=45, ha=\"right\")\n",
    "plt.xlabel(\"Modelle\")\n",
    "plt.ylabel(\"Accuracy\")\n",
    "plt.show()"
   ]
  },
  {
   "attachments": {},
   "cell_type": "markdown",
   "metadata": {},
   "source": [
    "Die Ergebnisse zeigen, dass das Baseline-Model besser performt, je mehr Wörter es pro Feature zur Verfügung hat. Während das beste Classifier Modell für das Basline-Model **Naive-Bayes** war, hat das Word Embedding Model mit **Support Vector Classification** am besten performt. Erwartungsgemäß, performt das Model auf Basis des Google Lexikons besser als das selbst trainierte Model. Dies liegt sehr wahrscheinlich daran, dass das Google Model viel weniger Abdeckunglücken als das eigene Model hat. Jedoch zeigt sich auch, dass das selbst trainierte Model besser performt wenn es linguistischer Features verwendet. Dagegen hat sich die Accuracy des google-basierten Models eher verschlechtert.  \n",
    "  \n",
    "Um die Accuracy weiter zu verbessern, ist es wohl nötig das Pre-Processing noch weiter anzupassen. Man könnte zum Beispiel eine verbesserte POS-Tagging Methode trainieren oder von Ngrams Gebrauch machen. Mit Letzteren könnte man in den Features eine Beziehung zwischen den verschiedenen Wörtern herstellen, um so die Sentiment Analyse zu verbessern. Weitere Methoden wären wohl das Anwenden von neuronalen Netzwerken, wie etwa RNNs, was jedoch den Rahmen der Vorlesung sprengen würde."
   ]
  }
 ],
 "metadata": {
  "kernelspec": {
   "display_name": "Python 3",
   "language": "python",
   "name": "python3"
  },
  "language_info": {
   "codemirror_mode": {
    "name": "ipython",
    "version": 3
   },
   "file_extension": ".py",
   "mimetype": "text/x-python",
   "name": "python",
   "nbconvert_exporter": "python",
   "pygments_lexer": "ipython3",
   "version": "3.10.4"
  },
  "toc": {
   "base_numbering": 1,
   "nav_menu": {},
   "number_sections": true,
   "sideBar": true,
   "skip_h1_title": false,
   "title_cell": "Table of Contents",
   "title_sidebar": "Contents",
   "toc_cell": false,
   "toc_position": {
    "height": "calc(100% - 180px)",
    "left": "10px",
    "top": "150px",
    "width": "384px"
   },
   "toc_section_display": true,
   "toc_window_display": true
  },
  "varInspector": {
   "cols": {
    "lenName": 16,
    "lenType": 16,
    "lenVar": 40
   },
   "kernels_config": {
    "python": {
     "delete_cmd_postfix": "",
     "delete_cmd_prefix": "del ",
     "library": "var_list.py",
     "varRefreshCmd": "print(var_dic_list())"
    },
    "r": {
     "delete_cmd_postfix": ") ",
     "delete_cmd_prefix": "rm(",
     "library": "var_list.r",
     "varRefreshCmd": "cat(var_dic_list()) "
    }
   },
   "types_to_exclude": [
    "module",
    "function",
    "builtin_function_or_method",
    "instance",
    "_Feature"
   ],
   "window_display": false
  },
  "vscode": {
   "interpreter": {
    "hash": "199223534aca13b620de5c653768146497dc43026169fa0274a0dc176b7a49e8"
   }
  }
 },
 "nbformat": 4,
 "nbformat_minor": 4
}
